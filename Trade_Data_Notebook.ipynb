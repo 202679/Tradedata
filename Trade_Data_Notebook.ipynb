{
 "cells": [
  {
   "cell_type": "code",
   "execution_count": 1,
   "metadata": {},
   "outputs": [
    {
     "name": "stderr",
     "output_type": "stream",
     "text": [
      "[nltk_data] Downloading package words to\n",
      "[nltk_data]     C:\\Users\\202679\\AppData\\Roaming\\nltk_data...\n",
      "[nltk_data]   Package words is already up-to-date!\n",
      "c:\\Handelsdaten_Code\\venv\\Lib\\site-packages\\fuzzywuzzy\\fuzz.py:11: UserWarning: Using slow pure-python SequenceMatcher. Install python-Levenshtein to remove this warning\n",
      "  warnings.warn('Using slow pure-python SequenceMatcher. Install python-Levenshtein to remove this warning')\n"
     ]
    }
   ],
   "source": [
    "import pandas as pd\n",
    "import matplotlib.pyplot as plt\n",
    "import numpy as np\n",
    "import os\n",
    "from statistics import mean, stdev\n",
    "import seaborn as sns\n",
    "from itertools import chain\n",
    "import math\n",
    "import re\n",
    "import nltk\n",
    "nltk.download('words')\n",
    "from nltk.corpus import words\n",
    "from fuzzywuzzy import fuzz\n",
    "import time"
   ]
  },
  {
   "cell_type": "markdown",
   "metadata": {},
   "source": [
    "## Data Extraction"
   ]
  },
  {
   "cell_type": "code",
   "execution_count": 2,
   "metadata": {},
   "outputs": [],
   "source": [
    "column_translations = {'海关编码': 'HS_Code', \n",
    "                       '详细产品名称': 'Detailed_Description',\n",
    "                       '日期': 'Date',\n",
    "                       '印度进口商': 'Indian_Importer',\n",
    "                       '数量单位': 'Quantity_Units',\n",
    "                       '数量': 'Quantity',\n",
    "                       '美元总金额': 'Total_Dollar_Amount',\n",
    "                       '美元单价': 'USD_Unit_Price',\n",
    "                       '卢比总金额': 'Total_Rupees_Amount',\n",
    "                       '卢比单价': 'Rupees_Unit_Price',\n",
    "                       '成交外币金额': 'Trans_Amount_Foreign_Currency',\n",
    "                       '成交外币单价': 'Trans_Unit_Price_Foreign_Currency',\n",
    "                       '币种': 'Currency',\n",
    "                       '月度': 'Monthly',\n",
    "                       '国外出口商': 'Foreign_Exporter',\n",
    "                       '产销洲': 'Export_Continent',\n",
    "                       '印度目的港': 'Entry_Port',\n",
    "                       '国外装货港': 'Shipping_Port',\n",
    "                       '产品描述': 'Product_Description',\n",
    "                       '卢比总税费': 'Rupees_Total_Taxes',\n",
    "                       '关单号': 'Customer_Order_Number',\n",
    "                       '印度港口代码': 'Indian_Port_Code',\n",
    "                       '运输方式': 'Transport_Method',\n",
    "                       '报关行': 'Transport_Company',\n",
    "                       '报关行代码': 'Transport_Company_Code',\n",
    "                       '进口商地址': 'Importer_Address',\n",
    "                       '进口商邮编': 'Importer_Zip_Code',\n",
    "                       '进口商企业编码': 'Importer_Company_Code',\n",
    "                       '进口商城市': 'Importer_City',\n",
    "                       '出口商地址': 'Exporter_Address',\n",
    "                       '合同号': 'Contract_No',\n",
    "                       '进出口': 'Import_Or_Export'}\n",
    "\n",
    "use_cols = [\"海关编码\", '详细产品名称', '日期', '印度进口商', '数量单位', '数量', '美元总金额', '美元单价', '卢比总金额', '卢比单价', '成交外币金额', '成交外币单价', '币种', '国外出口商', '产品描述', '进口商地址']"
   ]
  },
  {
   "cell_type": "code",
   "execution_count": 3,
   "metadata": {},
   "outputs": [
    {
     "name": "stderr",
     "output_type": "stream",
     "text": [
      "<>:3: SyntaxWarning: invalid escape sequence '\\D'\n",
      "<>:3: SyntaxWarning: invalid escape sequence '\\D'\n",
      "C:\\Users\\202679\\AppData\\Local\\Temp\\ipykernel_23592\\3500756359.py:3: SyntaxWarning: invalid escape sequence '\\D'\n",
      "  suppliers = pd.read_excel(\"K:\\DESDN\\mbd\\pm\\mpm_pma/00_Projekte\\CSMO\\Market Assessment\\Market APAC\\India\\Handelsdatenprojekt/Daten/Supplier Names India.xlsx\", header=2)\n"
     ]
    }
   ],
   "source": [
    "#Load suplliers with their aliases\n",
    "\n",
    "suppliers = pd.read_excel(\"K:\\DESDN\\mbd\\pm\\mpm_pma/00_Projekte\\CSMO\\Market Assessment\\Market APAC\\India\\Handelsdatenprojekt/Daten/Supplier Names India.xlsx\", header=2)\n",
    "\n",
    "suppliers = suppliers.to_dict('list')\n",
    "\n",
    "def is_nan(value):\n",
    "    try:\n",
    "        return math.isnan(value)\n",
    "    except:\n",
    "        return False\n",
    "\n",
    "for key, value_list in suppliers.items():\n",
    "    suppliers[key] = [value for value in value_list if not is_nan(value)]"
   ]
  },
  {
   "cell_type": "code",
   "execution_count": 4,
   "metadata": {},
   "outputs": [
    {
     "name": "stderr",
     "output_type": "stream",
     "text": [
      "<>:3: SyntaxWarning: invalid escape sequence '\\D'\n",
      "<>:3: SyntaxWarning: invalid escape sequence '\\D'\n",
      "C:\\Users\\202679\\AppData\\Local\\Temp\\ipykernel_23592\\718793704.py:3: SyntaxWarning: invalid escape sequence '\\D'\n",
      "  models = pd.read_excel(\"K:\\DESDN\\mbd\\pm\\mpm_pma/00_Projekte\\CSMO\\Market Assessment\\Market APAC\\India\\Handelsdatenprojekt\\Daten\\Model Mapping.xlsx\")\n"
     ]
    }
   ],
   "source": [
    "#Load model namings per supplier\n",
    "\n",
    "models = pd.read_excel(\"K:\\DESDN\\mbd\\pm\\mpm_pma/00_Projekte\\CSMO\\Market Assessment\\Market APAC\\India\\Handelsdatenprojekt\\Daten\\Model Mapping.xlsx\")\n",
    "models[\"Model Details\"] = models[\"Model Details\"].fillna('').astype(str)\n",
    "models['Model Family'] = models['Model Family'].astype(str)"
   ]
  },
  {
   "cell_type": "code",
   "execution_count": 5,
   "metadata": {},
   "outputs": [
    {
     "name": "stderr",
     "output_type": "stream",
     "text": [
      "<>:3: SyntaxWarning: invalid escape sequence '\\D'\n",
      "<>:3: SyntaxWarning: invalid escape sequence '\\D'\n",
      "C:\\Users\\202679\\AppData\\Local\\Temp\\ipykernel_23592\\505070620.py:3: SyntaxWarning: invalid escape sequence '\\D'\n",
      "  base_dir = 'K:\\DESDN\\mbd\\pm\\mpm_pma/00_Projekte\\CSMO\\Market Assessment\\Market APAC\\India\\Handelsdatenprojekt\\Daten/'\n"
     ]
    },
    {
     "name": "stdout",
     "output_type": "stream",
     "text": [
      "       海关编码                                             详细产品名称          日期  \\\n",
      "0  84143000  COMPRESSOR W11316286 TB1110Y WITH ACCESSORIES(...  2021/01/06   \n",
      "1  84143000  51330740793YK COMPRESSOR EM 65HHR 220-240V/50H...  2021/01/06   \n",
      "2  84143000             121L1393 COMPRESSOR MODEL HLJ072T4LC6   2021/01/06   \n",
      "3  84213920  GPS-IMOD-66-SNAP WITH GPS-IMOD-PS WITH ACCESSO...  2021/01/06   \n",
      "4  84143000  SAMPLE- COMPRESSOR FOR REFRIGERATOR WITH ACCES...  2021/01/06   \n",
      "\n",
      "                                        印度进口商  数量单位    数量   美元总金额  美元单价  \\\n",
      "0                 WHIRLPOOL OF INDIA LIMITED   NOS   6480  141134    22   \n",
      "1      WESTERN REFRIGERATION PRIVATE LIMITED   NOS   2760   67289    24   \n",
      "2         DANFOSS INDUSTRIES PRIVATE LIMITED   NOS    168   33568   200   \n",
      "3                        AIRCARE ENGINEERING   NOS      1    1907  1907   \n",
      "4  SAMSUNG INDIA ELECTRONICS PRIVATE LIMITED   PCS     60    4752    79   \n",
      "\n",
      "      卢比总金额    卢比单价    成交外币金额   成交外币单价    币种  \\\n",
      "0  10319725    1593  141134.0    21.78  USD    \n",
      "1   4920175    1783   67289.0    24.38  USD    \n",
      "2   2454493   14610   33568.0   199.81  USD    \n",
      "3    139439  139440    1907.0  1906.53  USD    \n",
      "4    347466    5791    4752.0    79.20  USD    \n",
      "\n",
      "                                 国外出口商  \\\n",
      "0        JIAXIPERA COMPRESSOR CO. LTD.   \n",
      "1  EMBRACO INDUSTRIA DE COMPRESSORES E   \n",
      "2          DANFOSS (TIANJIN) LTD.CHINA   \n",
      "3              GLOBAL PLASMA SOLUTIONS   \n",
      "4        HUBEI DONGBEI TRADING CO.,LTD   \n",
      "\n",
      "                                                产品描述  \\\n",
      "0            Compressors for refrigerating equipment   \n",
      "1            Compressors for refrigerating equipment   \n",
      "2            Compressors for refrigerating equipment   \n",
      "3  Machinery and apparatus for filtering or purif...   \n",
      "4            Compressors for refrigerating equipment   \n",
      "\n",
      "                                               进口商地址  \n",
      "0   A-4, MIDC INDUSTRIAL AREARANJANGAON TAL-SHIRUR    \n",
      "1  7B,PANNALAL SILK MILL COMPOUND,78,L.B.S.MARG, ...  \n",
      "2       243, OLD MAHABALIPURAM ROAD,SHOLINGANALLUR    \n",
      "3                                                NaN  \n",
      "4      7TH  & 8TH FLOOR, IFCI TOWER61, NEHRU PLACE    \n"
     ]
    }
   ],
   "source": [
    "#Load raw trade data\n",
    "\n",
    "base_dir = 'K:\\DESDN\\mbd\\pm\\mpm_pma/00_Projekte\\CSMO\\Market Assessment\\Market APAC\\India\\Handelsdatenprojekt\\Daten/'\n",
    "subdirs = ['2021', '2022', '2023', '2024']\n",
    "\n",
    "# Initialize an empty list to store the file paths\n",
    "filenames = []\n",
    "\n",
    "# Loop through each subdirectory\n",
    "for subdir in subdirs:\n",
    "    # Construct the full path to the subdirectory\n",
    "    full_path = os.path.join(base_dir, subdir)\n",
    "    \n",
    "    # Check if the subdirectory exists\n",
    "    if os.path.exists(full_path):\n",
    "        # Loop through each file in the subdirectory\n",
    "        for filename in os.listdir(full_path):\n",
    "            # Construct the full path to the file\n",
    "            file_path = os.path.join(full_path, filename)\n",
    "            \n",
    "            # Add the file path to the list\n",
    "            filenames.append(file_path)\n",
    "\n",
    "dfs = []\n",
    "\n",
    "for file in filenames:\n",
    "    dfs.append(pd.read_excel(os.path.join(base_dir, file), header=7, dtype={\"数量\": np.int64, '美元总金额': np.int64, '美元单价': np.int64, '卢比总金额': np.int64, '卢比单价': np.int64}, \n",
    "                             usecols=use_cols))\n",
    "\n",
    "raw_data = pd.concat(dfs)\n",
    "print(raw_data.head())"
   ]
  },
  {
   "cell_type": "markdown",
   "metadata": {},
   "source": [
    "## Basic Data Transformation"
   ]
  },
  {
   "cell_type": "code",
   "execution_count": 6,
   "metadata": {},
   "outputs": [
    {
     "name": "stdout",
     "output_type": "stream",
     "text": [
      "<class 'pandas.core.frame.DataFrame'>\n",
      "Index: 336222 entries, 0 to 1974\n",
      "Data columns (total 17 columns):\n",
      " #   Column                             Non-Null Count   Dtype  \n",
      "---  ------                             --------------   -----  \n",
      " 0   HS_Code                            336222 non-null  int64  \n",
      " 1   Detailed_Description               336219 non-null  object \n",
      " 2   Date                               336222 non-null  object \n",
      " 3   Indian_Importer                    336158 non-null  object \n",
      " 4   Quantity_Units                     336222 non-null  object \n",
      " 5   Quantity                           336222 non-null  int64  \n",
      " 6   Total_Dollar_Amount                336222 non-null  int64  \n",
      " 7   USD_Unit_Price                     336222 non-null  int64  \n",
      " 8   Total_Rupees_Amount                336222 non-null  int64  \n",
      " 9   Rupees_Unit_Price                  336222 non-null  int64  \n",
      " 10  Trans_Amount_Foreign_Currency      336186 non-null  float64\n",
      " 11  Trans_Unit_Price_Foreign_Currency  336186 non-null  float64\n",
      " 12  Currency                           335899 non-null  object \n",
      " 13  Foreign_Exporter                   336118 non-null  object \n",
      " 14  Product_Description                315142 non-null  object \n",
      " 15  Importer_Address                   289202 non-null  object \n",
      " 16  Origin_Country                     336222 non-null  object \n",
      "dtypes: float64(2), int64(6), object(9)\n",
      "memory usage: 46.2+ MB\n",
      "    HS_Code                               Detailed_Description        Date  \\\n",
      "0  84143000  COMPRESSOR W11316286 TB1110Y WITH ACCESSORIES(...  2021/01/06   \n",
      "1  84143000  51330740793YK COMPRESSOR EM 65HHR 220-240V/50H...  2021/01/06   \n",
      "2  84143000             121L1393 COMPRESSOR MODEL HLJ072T4LC6   2021/01/06   \n",
      "3  84213920  GPS-IMOD-66-SNAP WITH GPS-IMOD-PS WITH ACCESSO...  2021/01/06   \n",
      "4  84143000  SAMPLE- COMPRESSOR FOR REFRIGERATOR WITH ACCES...  2021/01/06   \n",
      "\n",
      "                              Indian_Importer Quantity_Units  Quantity  \\\n",
      "0                 WHIRLPOOL OF INDIA LIMITED            NOS       6480   \n",
      "1      WESTERN REFRIGERATION PRIVATE LIMITED            NOS       2760   \n",
      "2         DANFOSS INDUSTRIES PRIVATE LIMITED            NOS        168   \n",
      "3                        AIRCARE ENGINEERING            NOS          1   \n",
      "4  SAMSUNG INDIA ELECTRONICS PRIVATE LIMITED            PCS         60   \n",
      "\n",
      "   Total_Dollar_Amount  USD_Unit_Price  Total_Rupees_Amount  \\\n",
      "0               141134              22             10319725   \n",
      "1                67289              24              4920175   \n",
      "2                33568             200              2454493   \n",
      "3                 1907            1907               139439   \n",
      "4                 4752              79               347466   \n",
      "\n",
      "   Rupees_Unit_Price  Trans_Amount_Foreign_Currency  \\\n",
      "0               1593                       141134.0   \n",
      "1               1783                        67289.0   \n",
      "2              14610                        33568.0   \n",
      "3             139440                         1907.0   \n",
      "4               5791                         4752.0   \n",
      "\n",
      "   Trans_Unit_Price_Foreign_Currency Currency  \\\n",
      "0                              21.78     USD    \n",
      "1                              24.38     USD    \n",
      "2                             199.81     USD    \n",
      "3                            1906.53     USD    \n",
      "4                              79.20     USD    \n",
      "\n",
      "                      Foreign_Exporter  \\\n",
      "0        JIAXIPERA COMPRESSOR CO. LTD.   \n",
      "1  EMBRACO INDUSTRIA DE COMPRESSORES E   \n",
      "2          DANFOSS (TIANJIN) LTD.CHINA   \n",
      "3              GLOBAL PLASMA SOLUTIONS   \n",
      "4        HUBEI DONGBEI TRADING CO.,LTD   \n",
      "\n",
      "                                 Product_Description  \\\n",
      "0            Compressors for refrigerating equipment   \n",
      "1            Compressors for refrigerating equipment   \n",
      "2            Compressors for refrigerating equipment   \n",
      "3  Machinery and apparatus for filtering or purif...   \n",
      "4            Compressors for refrigerating equipment   \n",
      "\n",
      "                                    Importer_Address Origin_Country  \n",
      "0   A-4, MIDC INDUSTRIAL AREARANJANGAON TAL-SHIRUR                   \n",
      "1  7B,PANNALAL SILK MILL COMPOUND,78,L.B.S.MARG, ...                 \n",
      "2       243, OLD MAHABALIPURAM ROAD,SHOLINGANALLUR                   \n",
      "3                                                NaN                 \n",
      "4      7TH  & 8TH FLOOR, IFCI TOWER61, NEHRU PLACE                    None\n"
     ]
    }
   ],
   "source": [
    "#Translate column descriptions, drop unnecessary columns\n",
    "\n",
    "raw_data.rename(columns=column_translations, inplace=True)\n",
    "raw_data = raw_data.assign(Origin_Country='')\n",
    "\n",
    "print(raw_data.head(), raw_data.info())"
   ]
  },
  {
   "cell_type": "code",
   "execution_count": 7,
   "metadata": {},
   "outputs": [],
   "source": [
    "# Convert na values of detailed description into string\n",
    "\n",
    "raw_data['Detailed_Description'] = raw_data['Detailed_Description'].fillna('').astype(str)"
   ]
  },
  {
   "cell_type": "code",
   "execution_count": 8,
   "metadata": {},
   "outputs": [],
   "source": [
    "#Convert date strings into datetime objects and sort by date\n",
    "\n",
    "raw_data['Date'] = pd.to_datetime(raw_data['Date'], format=\"%Y/%m/%d\")\n",
    "raw_data.sort_values(\"Date\", inplace=True)\n"
   ]
  },
  {
   "cell_type": "code",
   "execution_count": 9,
   "metadata": {},
   "outputs": [
    {
     "name": "stdout",
     "output_type": "stream",
     "text": [
      "<class 'pandas.core.frame.DataFrame'>\n",
      "Index: 336222 entries, 1114 to 838\n",
      "Data columns (total 17 columns):\n",
      " #   Column                             Non-Null Count   Dtype         \n",
      "---  ------                             --------------   -----         \n",
      " 0   HS_Code                            336222 non-null  int64         \n",
      " 1   Detailed_Description               336222 non-null  object        \n",
      " 2   Date                               336222 non-null  datetime64[ns]\n",
      " 3   Indian_Importer                    336158 non-null  object        \n",
      " 4   Quantity_Units                     336222 non-null  object        \n",
      " 5   Quantity                           336222 non-null  int64         \n",
      " 6   Total_Dollar_Amount                336222 non-null  int64         \n",
      " 7   USD_Unit_Price                     336222 non-null  int64         \n",
      " 8   Total_Rupees_Amount                336222 non-null  int64         \n",
      " 9   Rupees_Unit_Price                  336222 non-null  int64         \n",
      " 10  Trans_Amount_Foreign_Currency      336186 non-null  float64       \n",
      " 11  Trans_Unit_Price_Foreign_Currency  336186 non-null  float64       \n",
      " 12  Currency                           335899 non-null  object        \n",
      " 13  Foreign_Exporter                   336118 non-null  object        \n",
      " 14  Product_Description                315142 non-null  object        \n",
      " 15  Importer_Address                   289202 non-null  object        \n",
      " 16  Origin_Country                     336222 non-null  object        \n",
      "dtypes: datetime64[ns](1), float64(2), int64(6), object(8)\n",
      "memory usage: 46.2+ MB\n"
     ]
    }
   ],
   "source": [
    "raw_data.info()"
   ]
  },
  {
   "cell_type": "code",
   "execution_count": 10,
   "metadata": {},
   "outputs": [],
   "source": [
    "#Filter out suppliers which are car companies\n",
    "\n",
    "raw_data['Foreign_Exporter'] = raw_data['Foreign_Exporter'].astype(str)\n",
    "\n",
    "raw_data = raw_data[~raw_data['Foreign_Exporter'].str.contains('MERCEDES|DAIMLER|VOLVO|TOYOTA|FORD|HYUNDAI|JAGUAR', case=False, regex=True)]"
   ]
  },
  {
   "cell_type": "markdown",
   "metadata": {},
   "source": [
    "## Add Total_Euro_Amount \n",
    "\n",
    "- Download current conversion rates whenever new Trade Data is downloaded from: https://data.ecb.europa.eu/data/datasets/EXR/EXR.D.USD.EUR.SP00.A\n",
    "- Rename to USD_EUR.csv"
   ]
  },
  {
   "cell_type": "code",
   "execution_count": 11,
   "metadata": {},
   "outputs": [],
   "source": [
    "USD_EUR = pd.read_csv(r\"K:/DESDN/mbd/pm/mpm_pma/00_Projekte/CSMO/Market Assessment/Market APAC/India/Handelsdatenprojekt/Daten/USD_EUR.csv\")\n",
    "\n",
    "USD_EUR[\"DATE\"] = pd.to_datetime(USD_EUR[\"DATE\"], format=r\"%Y-%m-%d\")\n",
    "USD_EUR.sort_values(\"DATE\", inplace=True)\n",
    "\n",
    "USD_EUR.set_index('DATE', inplace=True)\n",
    "full_date_range = pd.date_range(start=USD_EUR.index.min(), end=USD_EUR.index.max())\n",
    "USD_EUR = USD_EUR.reindex(full_date_range)\n",
    "\n",
    "USD_EUR['US dollar/Euro (EXR.D.USD.EUR.SP00.A)'] = USD_EUR['US dollar/Euro (EXR.D.USD.EUR.SP00.A)'].ffill().bfill()\n",
    "\n",
    "USD_EUR.reset_index(inplace=True)\n",
    "USD_EUR.rename(columns={'index': 'DATE'}, inplace=True)"
   ]
  },
  {
   "cell_type": "code",
   "execution_count": 12,
   "metadata": {},
   "outputs": [
    {
     "data": {
      "text/plain": [
       "'\\ndef convert_currency(row, conversion=USD_EUR):\\n    \\n    print(type(row))\\n    print(conversion[\"DATE\"])\\n\\n    sel = conversion[conversion[\"DATE\"] == row[\\'Date\\']]\\n    #sel = conversion.merge(right=row, left_on=\"DATE\", right_on=\"Date\", how=\"inner\")\\n    exchange_rate = sel.iloc[0][\"US dollar/Euro (EXR.D.USD.EUR.SP00.A)\"]\\n\\n    return int(row[\"Total_Dollar_Amount\"] / exchange_rate)\\n\\nraw_data[\"Total_Euro_Amount\"] = raw_data.apply(lambda x: convert_currency(x), axis=1)\\n'"
      ]
     },
     "execution_count": 12,
     "metadata": {},
     "output_type": "execute_result"
    }
   ],
   "source": [
    "'''\n",
    "def convert_currency(row, conversion=USD_EUR):\n",
    "    \n",
    "    print(type(row))\n",
    "    print(conversion[\"DATE\"])\n",
    "\n",
    "    sel = conversion[conversion[\"DATE\"] == row['Date']]\n",
    "    #sel = conversion.merge(right=row, left_on=\"DATE\", right_on=\"Date\", how=\"inner\")\n",
    "    exchange_rate = sel.iloc[0][\"US dollar/Euro (EXR.D.USD.EUR.SP00.A)\"]\n",
    "\n",
    "    return int(row[\"Total_Dollar_Amount\"] / exchange_rate)\n",
    "\n",
    "raw_data[\"Total_Euro_Amount\"] = raw_data.apply(lambda x: convert_currency(x), axis=1)\n",
    "'''"
   ]
  },
  {
   "cell_type": "code",
   "execution_count": 13,
   "metadata": {},
   "outputs": [
    {
     "name": "stdout",
     "output_type": "stream",
     "text": [
      "Empty DataFrame\n",
      "Columns: [HS_Code, Detailed_Description, Date, Indian_Importer, Quantity_Units, Quantity, Total_Dollar_Amount, USD_Unit_Price, Total_Rupees_Amount, Rupees_Unit_Price, Trans_Amount_Foreign_Currency, Trans_Unit_Price_Foreign_Currency, Currency, Foreign_Exporter, Product_Description, Importer_Address, Origin_Country, DATE, TIME PERIOD, US dollar/Euro (EXR.D.USD.EUR.SP00.A), Total_Euro_Amount]\n",
      "Index: []\n",
      "\n",
      "[0 rows x 21 columns]\n"
     ]
    }
   ],
   "source": [
    "def USD_EUR_Conversion(data, USD_EUR):\n",
    "\n",
    "    merged_data = data.merge(USD_EUR, left_on='Date', right_on='DATE', how='left')\n",
    "\n",
    "    # Currency conversion\n",
    "    merged_data['Total_Euro_Amount'] = merged_data['Total_Dollar_Amount'] / merged_data['US dollar/Euro (EXR.D.USD.EUR.SP00.A)']\n",
    "    print(merged_data[merged_data['Total_Euro_Amount'].isna()])\n",
    "    merged_data['Total_Euro_Amount'] = merged_data['Total_Euro_Amount'].astype(int)\n",
    "    merged_data['Euros_Unit_Price'] = merged_data['USD_Unit_Price'] / merged_data['US dollar/Euro (EXR.D.USD.EUR.SP00.A)']\n",
    "    merged_data['Euros_Unit_Price'] = merged_data['Euros_Unit_Price'].astype(int)\n",
    "\n",
    "    # Drop the extra 'DATE' column from the merge if desired\n",
    "    merged_data.drop(columns=['DATE', 'US dollar/Euro (EXR.D.USD.EUR.SP00.A)'], inplace=True)\n",
    "\n",
    "    return merged_data\n",
    "\n",
    "raw_data = USD_EUR_Conversion(raw_data, USD_EUR)"
   ]
  },
  {
   "cell_type": "code",
   "execution_count": 14,
   "metadata": {},
   "outputs": [
    {
     "data": {
      "text/html": [
       "<div>\n",
       "<style scoped>\n",
       "    .dataframe tbody tr th:only-of-type {\n",
       "        vertical-align: middle;\n",
       "    }\n",
       "\n",
       "    .dataframe tbody tr th {\n",
       "        vertical-align: top;\n",
       "    }\n",
       "\n",
       "    .dataframe thead th {\n",
       "        text-align: right;\n",
       "    }\n",
       "</style>\n",
       "<table border=\"1\" class=\"dataframe\">\n",
       "  <thead>\n",
       "    <tr style=\"text-align: right;\">\n",
       "      <th></th>\n",
       "      <th>HS_Code</th>\n",
       "      <th>Detailed_Description</th>\n",
       "      <th>Date</th>\n",
       "      <th>Indian_Importer</th>\n",
       "      <th>Quantity_Units</th>\n",
       "      <th>Quantity</th>\n",
       "      <th>Total_Dollar_Amount</th>\n",
       "      <th>USD_Unit_Price</th>\n",
       "      <th>Total_Rupees_Amount</th>\n",
       "      <th>Rupees_Unit_Price</th>\n",
       "      <th>Trans_Amount_Foreign_Currency</th>\n",
       "      <th>Trans_Unit_Price_Foreign_Currency</th>\n",
       "      <th>Currency</th>\n",
       "      <th>Foreign_Exporter</th>\n",
       "      <th>Product_Description</th>\n",
       "      <th>Importer_Address</th>\n",
       "      <th>Origin_Country</th>\n",
       "      <th>TIME PERIOD</th>\n",
       "      <th>Total_Euro_Amount</th>\n",
       "      <th>Euros_Unit_Price</th>\n",
       "    </tr>\n",
       "  </thead>\n",
       "  <tbody>\n",
       "    <tr>\n",
       "      <th>0</th>\n",
       "      <td>84143000</td>\n",
       "      <td>KF571001, COMPRESSOR SUITABLE FOR BOLERO</td>\n",
       "      <td>2021-01-01</td>\n",
       "      <td>MAHLE ANAND THERMAL SYSTEMS PRIVATE LIMITED</td>\n",
       "      <td>NOS</td>\n",
       "      <td>75</td>\n",
       "      <td>3690</td>\n",
       "      <td>49</td>\n",
       "      <td>269813</td>\n",
       "      <td>3598</td>\n",
       "      <td>3690.0</td>\n",
       "      <td>49.20</td>\n",
       "      <td>USD</td>\n",
       "      <td>UNNAYI(NANTONG)SCIEN-TECH CO. LTD.</td>\n",
       "      <td>Compressors for refrigerating equipment</td>\n",
       "      <td>29,MILESTONE,PUNE-NASIK HIGHWAYKURULI,KHED</td>\n",
       "      <td></td>\n",
       "      <td>NaN</td>\n",
       "      <td>3007</td>\n",
       "      <td>39</td>\n",
       "    </tr>\n",
       "    <tr>\n",
       "      <th>1</th>\n",
       "      <td>84212900</td>\n",
       "      <td>83630716 FUEL FILTER (COMPONENTS FOR CONSTRUCT...</td>\n",
       "      <td>2021-01-01</td>\n",
       "      <td>SCHWING STETTER (INDIA) PRIVATE LIMITED</td>\n",
       "      <td>PCS</td>\n",
       "      <td>15</td>\n",
       "      <td>168</td>\n",
       "      <td>11</td>\n",
       "      <td>12284</td>\n",
       "      <td>819</td>\n",
       "      <td>168.0</td>\n",
       "      <td>11.20</td>\n",
       "      <td>USD</td>\n",
       "      <td>XUZHOU RANRY IMP&amp;EXP CO LTD</td>\n",
       "      <td>Machinery and apparatus for filtering or purif...</td>\n",
       "      <td>F-71,SIPCOT INDL.PARK,SRIPERUMBUDURTALUK, IRUN...</td>\n",
       "      <td></td>\n",
       "      <td>NaN</td>\n",
       "      <td>136</td>\n",
       "      <td>8</td>\n",
       "    </tr>\n",
       "    <tr>\n",
       "      <th>2</th>\n",
       "      <td>84212900</td>\n",
       "      <td>AF25667 AIR FILTER (C/O MX)</td>\n",
       "      <td>2021-01-01</td>\n",
       "      <td>AGROMACH SPARES CORPORATION</td>\n",
       "      <td>NOS</td>\n",
       "      <td>18</td>\n",
       "      <td>477</td>\n",
       "      <td>27</td>\n",
       "      <td>34878</td>\n",
       "      <td>1938</td>\n",
       "      <td>477.0</td>\n",
       "      <td>26.50</td>\n",
       "      <td>USD</td>\n",
       "      <td>ILKERLER ENDUSTRI SATIS VE PAZALAMA A. S.</td>\n",
       "      <td>Machinery and apparatus for filtering or purif...</td>\n",
       "      <td>JETHALAL MANSION, 3RD FLR.,10 BANK STREET*CROS...</td>\n",
       "      <td></td>\n",
       "      <td>NaN</td>\n",
       "      <td>388</td>\n",
       "      <td>22</td>\n",
       "    </tr>\n",
       "    <tr>\n",
       "      <th>3</th>\n",
       "      <td>84148011</td>\n",
       "      <td>COMPRESSOR (MODEL NO. 1YC32CXD#A6) (MFR/BRAND:...</td>\n",
       "      <td>2021-01-01</td>\n",
       "      <td>DAIKIN AIRCONDITIONING INDIA PVT. LTD.</td>\n",
       "      <td>UNT</td>\n",
       "      <td>384</td>\n",
       "      <td>18140</td>\n",
       "      <td>47</td>\n",
       "      <td>1326397</td>\n",
       "      <td>3454</td>\n",
       "      <td>18140.0</td>\n",
       "      <td>47.24</td>\n",
       "      <td>USD</td>\n",
       "      <td>DAIKIN COMPRESSOR INDUSTRIES LTD.</td>\n",
       "      <td>Air pumps, air or other gas compressors and ve...</td>\n",
       "      <td>F-25/2, OKHLA INDUSTRIAL AREA,PHASEII,</td>\n",
       "      <td></td>\n",
       "      <td>NaN</td>\n",
       "      <td>14782</td>\n",
       "      <td>38</td>\n",
       "    </tr>\n",
       "    <tr>\n",
       "      <th>4</th>\n",
       "      <td>84212900</td>\n",
       "      <td>FF4052A FUEL FILTER (C/O IN)</td>\n",
       "      <td>2021-01-01</td>\n",
       "      <td>AGROMACH SPARES CORPORATION</td>\n",
       "      <td>NOS</td>\n",
       "      <td>3</td>\n",
       "      <td>13</td>\n",
       "      <td>4</td>\n",
       "      <td>950</td>\n",
       "      <td>317</td>\n",
       "      <td>13.0</td>\n",
       "      <td>4.43</td>\n",
       "      <td>USD</td>\n",
       "      <td>ILKERLER ENDUSTRI SATIS VE PAZALAMA A. S.</td>\n",
       "      <td>Machinery and apparatus for filtering or purif...</td>\n",
       "      <td>JETHALAL MANSION, 3RD FLR.,10 BANK STREET*CROS...</td>\n",
       "      <td></td>\n",
       "      <td>NaN</td>\n",
       "      <td>10</td>\n",
       "      <td>3</td>\n",
       "    </tr>\n",
       "  </tbody>\n",
       "</table>\n",
       "</div>"
      ],
      "text/plain": [
       "    HS_Code                               Detailed_Description       Date  \\\n",
       "0  84143000          KF571001, COMPRESSOR SUITABLE FOR BOLERO  2021-01-01   \n",
       "1  84212900  83630716 FUEL FILTER (COMPONENTS FOR CONSTRUCT... 2021-01-01   \n",
       "2  84212900                       AF25667 AIR FILTER (C/O MX)  2021-01-01   \n",
       "3  84148011  COMPRESSOR (MODEL NO. 1YC32CXD#A6) (MFR/BRAND:... 2021-01-01   \n",
       "4  84212900                      FF4052A FUEL FILTER (C/O IN)  2021-01-01   \n",
       "\n",
       "                                Indian_Importer Quantity_Units  Quantity  \\\n",
       "0  MAHLE ANAND THERMAL SYSTEMS PRIVATE LIMITED            NOS         75   \n",
       "1      SCHWING STETTER (INDIA) PRIVATE LIMITED            PCS         15   \n",
       "2                  AGROMACH SPARES CORPORATION            NOS         18   \n",
       "3       DAIKIN AIRCONDITIONING INDIA PVT. LTD.            UNT        384   \n",
       "4                  AGROMACH SPARES CORPORATION            NOS          3   \n",
       "\n",
       "   Total_Dollar_Amount  USD_Unit_Price  Total_Rupees_Amount  \\\n",
       "0                 3690              49               269813   \n",
       "1                  168              11                12284   \n",
       "2                  477              27                34878   \n",
       "3                18140              47              1326397   \n",
       "4                   13               4                  950   \n",
       "\n",
       "   Rupees_Unit_Price  Trans_Amount_Foreign_Currency  \\\n",
       "0               3598                         3690.0   \n",
       "1                819                          168.0   \n",
       "2               1938                          477.0   \n",
       "3               3454                        18140.0   \n",
       "4                317                           13.0   \n",
       "\n",
       "   Trans_Unit_Price_Foreign_Currency Currency  \\\n",
       "0                              49.20     USD    \n",
       "1                              11.20     USD    \n",
       "2                              26.50     USD    \n",
       "3                              47.24     USD    \n",
       "4                               4.43     USD    \n",
       "\n",
       "                            Foreign_Exporter  \\\n",
       "0         UNNAYI(NANTONG)SCIEN-TECH CO. LTD.   \n",
       "1                XUZHOU RANRY IMP&EXP CO LTD   \n",
       "2  ILKERLER ENDUSTRI SATIS VE PAZALAMA A. S.   \n",
       "3          DAIKIN COMPRESSOR INDUSTRIES LTD.   \n",
       "4  ILKERLER ENDUSTRI SATIS VE PAZALAMA A. S.   \n",
       "\n",
       "                                 Product_Description  \\\n",
       "0            Compressors for refrigerating equipment   \n",
       "1  Machinery and apparatus for filtering or purif...   \n",
       "2  Machinery and apparatus for filtering or purif...   \n",
       "3  Air pumps, air or other gas compressors and ve...   \n",
       "4  Machinery and apparatus for filtering or purif...   \n",
       "\n",
       "                                    Importer_Address Origin_Country  \\\n",
       "0       29,MILESTONE,PUNE-NASIK HIGHWAYKURULI,KHED                    \n",
       "1  F-71,SIPCOT INDL.PARK,SRIPERUMBUDURTALUK, IRUN...                  \n",
       "2  JETHALAL MANSION, 3RD FLR.,10 BANK STREET*CROS...                  \n",
       "3           F-25/2, OKHLA INDUSTRIAL AREA,PHASEII,                    \n",
       "4  JETHALAL MANSION, 3RD FLR.,10 BANK STREET*CROS...                  \n",
       "\n",
       "  TIME PERIOD  Total_Euro_Amount  Euros_Unit_Price  \n",
       "0         NaN               3007                39  \n",
       "1         NaN                136                 8  \n",
       "2         NaN                388                22  \n",
       "3         NaN              14782                38  \n",
       "4         NaN                 10                 3  "
      ]
     },
     "execution_count": 14,
     "metadata": {},
     "output_type": "execute_result"
    }
   ],
   "source": [
    "raw_data.head()"
   ]
  },
  {
   "cell_type": "markdown",
   "metadata": {},
   "source": [
    "## Exploration"
   ]
  },
  {
   "cell_type": "code",
   "execution_count": 15,
   "metadata": {},
   "outputs": [
    {
     "name": "stdout",
     "output_type": "stream",
     "text": [
      "Mean of Set Amounts: 806.6796021122436 \n",
      "Sdev of Set Amounts: 2372.533357548459\n",
      "Mean of Other Amounts: 894.6437478660456 \n",
      "Sdev of Other Amounts: 33767.957146775014\n"
     ]
    }
   ],
   "source": [
    "#Exploration to make sense of amounts\n",
    "\n",
    "sel_set = raw_data[raw_data[\"Quantity_Units\"] == \"SET\"]\n",
    "\n",
    "sel_other = raw_data[raw_data[\"Quantity_Units\"] != \"SET\"]\n",
    "\n",
    "sel_set = sel_set[\"Quantity\"].to_list()\n",
    "sel_other = sel_other[\"Quantity\"].to_list()\n",
    "\n",
    "print(\"Mean of Set Amounts:\", mean(sel_set),\n",
    "      \"\\nSdev of Set Amounts:\", stdev(sel_set))\n",
    "\n",
    "print(\"Mean of Other Amounts:\", mean(sel_other),\n",
    "      \"\\nSdev of Other Amounts:\", stdev(sel_other))"
   ]
  },
  {
   "cell_type": "code",
   "execution_count": 16,
   "metadata": {},
   "outputs": [
    {
     "name": "stdout",
     "output_type": "stream",
     "text": [
      "321060\n"
     ]
    },
    {
     "data": {
      "image/png": "[encoded data removed]",
      "text/plain": [
       "<Figure size 640x480 with 1 Axes>"
      ]
     },
     "metadata": {},
     "output_type": "display_data"
    }
   ],
   "source": [
    "#Exploration to make sense of quantities\n",
    "\n",
    "sel = raw_data[raw_data['Quantity'] < 5000]\n",
    "print(len(sel))\n",
    "sns.kdeplot(sel[\"Quantity\"], fill=True, color='skyblue')\n",
    "plt.xlabel('Quantity')\n",
    "plt.ylabel('Density')\n",
    "plt.title('Density Plot of Quantity')\n",
    "plt.show()"
   ]
  },
  {
   "cell_type": "markdown",
   "metadata": {},
   "source": [
    "## Drop Deliveries with Quantities <= 0"
   ]
  },
  {
   "cell_type": "code",
   "execution_count": 17,
   "metadata": {},
   "outputs": [
    {
     "name": "stdout",
     "output_type": "stream",
     "text": [
      "Anzahl Quantaties kleiner gleich 0: 227\n",
      "         HS_Code                               Detailed_Description  \\\n",
      "1347    84212900  L STRAINER 305 PP-H/EPDM D20DN15 167305300 (2 ...   \n",
      "3600    84212900  417-02 MOVING J/C STRAINER (S.P FOR DIE CASTIN...   \n",
      "3666    84212900  417-01 FIXED J/C STRAINER (S.P FOR DIE CASTING...   \n",
      "5747    84212900  FILTER\\HILCO\\SIMPLEX\\MODEL NO 4960-00-682-C\\FL...   \n",
      "7505    84212900  8162, SPINX FLTR 2ML 45UM CA S BK (CASE1) (QTY...   \n",
      "...          ...                                                ...   \n",
      "324118  84212900                     FILTER ELEMENT 0160 R010 P/HC    \n",
      "324193  84212900                                    FILTER ELEMENT    \n",
      "324211  84212900                      FILTER ELEMENT 0060 D 020 ON    \n",
      "324240  84212900                     FILTER ELEMENT 0240 R010 P/HC    \n",
      "324246  84212900                                    FILTER ELEMENT    \n",
      "\n",
      "             Date                                Indian_Importer  \\\n",
      "1347   2021-01-10  GEORG FISCHER PIPING SYSTEMS PRIVATE LIMITED    \n",
      "3600   2021-01-20                   KOIDE INDIA PRIVATE LIMITED    \n",
      "3666   2021-01-20                   KOIDE INDIA PRIVATE LIMITED    \n",
      "5747   2021-01-30                     ENPRO INDUSTRIES PVT.LTD.    \n",
      "7505   2021-02-10    CORNING TECHNOLOGIES INDIA PRIVATE LIMITED    \n",
      "...           ...                                            ...   \n",
      "324118 2024-05-31                      ULTRATECH CEMENT LIMITED    \n",
      "324193 2024-05-31                      ULTRATECH CEMENT LIMITED    \n",
      "324211 2024-05-31                      ULTRATECH CEMENT LIMITED    \n",
      "324240 2024-05-31                      ULTRATECH CEMENT LIMITED    \n",
      "324246 2024-05-31                      ULTRATECH CEMENT LIMITED    \n",
      "\n",
      "       Quantity_Units  Quantity  Total_Dollar_Amount  USD_Unit_Price  \\\n",
      "1347             NOS          0                   85             195   \n",
      "3600             KGS          0                  108             906   \n",
      "3666             KGS          0                  211            1057   \n",
      "5747             NOS          0                23732           30426   \n",
      "7505             KGS          0                   88             149   \n",
      "...               ...       ...                  ...             ...   \n",
      "324118            KGS         0                  131             411   \n",
      "324193            KGS         0                  131             411   \n",
      "324211            KGS         0                  115             921   \n",
      "324240            KGS         0                  849            3032   \n",
      "324246            KGS         0                  115             921   \n",
      "\n",
      "        Total_Rupees_Amount  Rupees_Unit_Price  Trans_Amount_Foreign_Currency  \\\n",
      "1347                   6215              14255                           85.0   \n",
      "3600                   7947              66228                        11340.0   \n",
      "3666                  15453              77266                        22050.0   \n",
      "5747                1735285            2224725                        23732.0   \n",
      "7505                   6406              10859                           88.0   \n",
      "...                     ...                ...                            ...   \n",
      "324118                11102              34695                          120.0   \n",
      "324193                11103              34697                          120.0   \n",
      "324211                 9714              77717                          105.0   \n",
      "324240                71615             255768                          774.0   \n",
      "324246                 9715              77721                          105.0   \n",
      "\n",
      "        Trans_Unit_Price_Foreign_Currency Currency  \\\n",
      "1347                            194.58716     USD    \n",
      "3600                          94500.00000     JPY    \n",
      "3666                         110250.00000     JPY    \n",
      "5747                          30425.00000     USD    \n",
      "7505                            149.54237     USD    \n",
      "...                                   ...      ...   \n",
      "324118                          375.00000     EUR    \n",
      "324193                          375.00000     EUR    \n",
      "324211                          840.00000     EUR    \n",
      "324240                         2764.28570     EUR    \n",
      "324246                          840.00000     EUR    \n",
      "\n",
      "                        Foreign_Exporter  \\\n",
      "1347    GEORG FISCHER PIPING SYSTEMS LTD   \n",
      "3600                  FUKUMI CORPORATION   \n",
      "3666                  FUKUMI CORPORATION   \n",
      "5747            THE HILLIARD CORPORATION   \n",
      "7505                CORNING INCORPORATED   \n",
      "...                                  ...   \n",
      "324118               GEBR. PFEIFFER SE.    \n",
      "324193               GEBR. PFEIFFER SE.    \n",
      "324211               GEBR. PFEIFFER SE.    \n",
      "324240               GEBR. PFEIFFER SE.    \n",
      "324246               GEBR. PFEIFFER SE.    \n",
      "\n",
      "                                      Product_Description  \\\n",
      "1347    Machinery and apparatus for filtering or purif...   \n",
      "3600    Machinery and apparatus for filtering or purif...   \n",
      "3666    Machinery and apparatus for filtering or purif...   \n",
      "5747    Machinery and apparatus for filtering or purif...   \n",
      "7505    Machinery and apparatus for filtering or purif...   \n",
      "...                                                   ...   \n",
      "324118  Machinery and apparatus for filtering or purif...   \n",
      "324193  Machinery and apparatus for filtering or purif...   \n",
      "324211  Machinery and apparatus for filtering or purif...   \n",
      "324240  Machinery and apparatus for filtering or purif...   \n",
      "324246  Machinery and apparatus for filtering or purif...   \n",
      "\n",
      "                                         Importer_Address Origin_Country  \\\n",
      "1347    PLOT NO 9.B, 1ST FLR.,KUPRI VILLAGEABV CHINA V...                  \n",
      "3600    NIC(M) PLOT NO. SP 2-21(B) RIICO  INDUSTRIAL A...                  \n",
      "3666    NIC(M) PLOT NO. SP 2-21(B) RIICO  INDUSTRIAL A...                  \n",
      "5747                        D-1, 12/4, MIDC, CHINCHWAD,                    \n",
      "7505            3RD FLOOR, GATEWAY TOWER, DLFPHASE-III,                    \n",
      "...                                                   ...            ...   \n",
      "324118  B-WING AHURA CENTRE 2ND FLOOR  MAHAKALI CAVES ...                  \n",
      "324193  B-WING AHURA CENTRE 2ND FLOOR  MAHAKALI CAVES ...                  \n",
      "324211  B-WING AHURA CENTRE 2ND FLOOR  MAHAKALI CAVES ...                  \n",
      "324240  B-WING AHURA CENTRE 2ND FLOOR  MAHAKALI CAVES ...                  \n",
      "324246  B-WING AHURA CENTRE 2ND FLOOR  MAHAKALI CAVES ...                  \n",
      "\n",
      "        TIME PERIOD  Total_Euro_Amount  Euros_Unit_Price  \n",
      "1347            NaN                 69               159  \n",
      "3600    20 Jan 2021                 89               748  \n",
      "3666    20 Jan 2021                174               873  \n",
      "5747            NaN              19555             25070  \n",
      "7505    10 Feb 2021                 72               122  \n",
      "...             ...                ...               ...  \n",
      "324118  31 May 2024                120               378  \n",
      "324193  31 May 2024                120               378  \n",
      "324211  31 May 2024                105               848  \n",
      "324240  31 May 2024                782              2793  \n",
      "324246  31 May 2024                105               848  \n",
      "\n",
      "[227 rows x 20 columns]\n"
     ]
    }
   ],
   "source": [
    "print(\"Anzahl Quantaties kleiner gleich 0:\",len(raw_data[raw_data[\"Quantity\"] <= 0].index))\n",
    "print(raw_data[raw_data[\"Quantity\"] <= 0])\n",
    "raw_data = raw_data.drop(raw_data[raw_data[\"Quantity\"] <= 0].index)"
   ]
  },
  {
   "cell_type": "code",
   "execution_count": 18,
   "metadata": {},
   "outputs": [],
   "source": [
    "#Convert strings to upper case to make atring matching easier\n",
    "\n",
    "raw_data [\"Indian_Importer\"] = raw_data[\"Indian_Importer\"].str.upper()\n",
    "raw_data [\"Foreign_Exporter\"] = raw_data[\"Foreign_Exporter\"].str.upper()\n",
    "raw_data [\"Detailed_Description\"] = raw_data[\"Detailed_Description\"].str.upper()\n"
   ]
  },
  {
   "cell_type": "code",
   "execution_count": 19,
   "metadata": {},
   "outputs": [
    {
     "data": {
      "image/png": "[encoded data removed]",
      "text/plain": [
       "<Figure size 1800x600 with 3 Axes>"
      ]
     },
     "metadata": {},
     "output_type": "display_data"
    }
   ],
   "source": [
    "#Explore how many entries are of major competitors\n",
    "\n",
    "sel1 = raw_data[raw_data['HS_Code'] == 84143000]\n",
    "sel2 = raw_data[raw_data['HS_Code'] == 84148011]\n",
    "\n",
    "substrings = ['Bock', 'Danfoss', 'Mayekawa', 'Dorin', 'Fujian', 'SRM', 'Comer', 'Fu Sheng', 'Daikin', 'J&E', 'J & E', 'GEA', 'Frascold', 'Hanbell', 'Snowman', 'Emerson', 'Copeland', 'Bitzer', 'Siam', 'Invotech']\n",
    "count = raw_data['Foreign_Exporter'].str.contains('|'.join(substrings), case=False)\n",
    "count1 = sel1['Foreign_Exporter'].str.contains('|'.join(substrings), case=False)\n",
    "count2 = sel2['Foreign_Exporter'].str.contains('|'.join(substrings), case=False)\n",
    "\n",
    "# Berechne die Anteile\n",
    "all_counts = count.value_counts(normalize=True)\n",
    "hs84143000_counts = count1.value_counts(normalize=True)\n",
    "hs84148011_counts = count2.value_counts(normalize=True)\n",
    "\n",
    "# Visualisierung als Kreisdiagramme\n",
    "fig, axs = plt.subplots(1, 3, figsize=(18, 6))\n",
    "\n",
    "# Alle HS-Codes\n",
    "axs[0].pie(all_counts, labels=all_counts.index, autopct='%1.1f%%', startangle=140)\n",
    "axs[0].set_title('Importe mit einem der größten Verkäufer (Alle HS-Codes)')\n",
    "\n",
    "# HS-Code 84143000\n",
    "axs[1].pie(hs84143000_counts, labels=hs84143000_counts.index, autopct='%1.1f%%', startangle=140)\n",
    "axs[1].set_title('Importe mit einem der größten Verkäufer (84143000)')\n",
    "\n",
    "# HS-Code 84148011\n",
    "axs[2].pie(hs84148011_counts, labels=hs84148011_counts.index, autopct='%1.1f%%', startangle=140)\n",
    "axs[2].set_title('Importe mit einem der größten Verkäufer (84148011)')\n",
    "\n",
    "plt.show()"
   ]
  },
  {
   "cell_type": "markdown",
   "metadata": {},
   "source": [
    "## Categorizations by Main Competitors and (obvious) Compressor Types"
   ]
  },
  {
   "cell_type": "code",
   "execution_count": 20,
   "metadata": {},
   "outputs": [],
   "source": [
    "#Categorize by main competitors\n",
    "\n",
    "competitor_mapping = {'Frascold': ['FRASCOLD'], \n",
    "                      'MYCOM': ['MAYEKAWA'],\n",
    "                       'Snowman': ['FUJIAN', 'SRM', 'SNOWMAN'],\n",
    "                        'Hanbell': ['HANBELL', 'COMER'],\n",
    "                         'Fu Sheng': ['FU SHENG', 'FUSHENG'],\n",
    "                           'Daikin': ['DAIKIN'],\n",
    "                           'J&E Hall': ['J&E', 'J & E'],\n",
    "                           'GEA': ['GEAREFRIG', 'GEA REFRIG'],\n",
    "                           'Dorin': ['DORIN'],\n",
    "                           'Bock': ['BOCK'],\n",
    "                           'Danfoss': ['DANFOSS'],\n",
    "                           'Copeland/Emerson': ['EMERSON', 'COPELAND'],\n",
    "                           'BITZER': ['BITZER'],\n",
    "                           'Siam': ['SIAM'],\n",
    "                           'Invotech': ['INVOTECH']}\n",
    "\n",
    "def map_competitor(exporter, mapping):\n",
    "        \n",
    "    if isinstance(exporter, str):\n",
    "        for competitor, substrings in mapping.items():\n",
    "            for substring in substrings:\n",
    "                if substring in exporter:\n",
    "                    return competitor\n",
    "    return 'Other'\n",
    "\n",
    "raw_data['Foreign_Exporter'] = raw_data['Foreign_Exporter'].str.upper()\n",
    "raw_data[\"Competitor\"] = raw_data['Foreign_Exporter'].apply(map_competitor, args=(competitor_mapping,))"
   ]
  },
  {
   "cell_type": "code",
   "execution_count": 21,
   "metadata": {},
   "outputs": [
    {
     "name": "stdout",
     "output_type": "stream",
     "text": [
      "                                Detailed_Description Compressor_Type\n",
      "0          KF571001, COMPRESSOR SUITABLE FOR BOLERO                 \n",
      "1  83630716 FUEL FILTER (COMPONENTS FOR CONSTRUCT...                \n",
      "2                       AF25667 AIR FILTER (C/O MX)                 \n",
      "3  COMPRESSOR (MODEL NO. 1YC32CXD#A6) (MFR/BRAND:...                \n",
      "4                      FF4052A FUEL FILTER (C/O IN)                 \n",
      "5                       AF25957 AIR FILTER (C/O FR)                 \n",
      "6    OIL SEPARATOR - YFQ-F00101-001- AS PER INVOCIE                 \n",
      "7                FS36215 FUEL/WATER FILTER (C/O CN)                 \n",
      "8                       LF3325 LUBE FILTER (C/O MX)                 \n",
      "9               TBZ35619701 - COMPRESSOR SET, KOREA                 \n"
     ]
    }
   ],
   "source": [
    "#Categorize compressor types\n",
    "\n",
    "compressor_mapping = {'Recip': 'RECIP',\n",
    "                      'Scroll': 'SCROLL',\n",
    "                      'Screw': 'SCREW',\n",
    "                      'Rotary': 'ROTARY'}\n",
    "\n",
    "def map_compressor(description, mapping):\n",
    "    for type, substring in mapping.items():\n",
    "        if substring in description:\n",
    "            return type\n",
    "    return ''\n",
    "\n",
    "raw_data['Compressor_Type'] = raw_data['Detailed_Description'].apply(lambda x: map_compressor(x, compressor_mapping))\n",
    "\n",
    "print(raw_data[['Detailed_Description', 'Compressor_Type']].head(10))"
   ]
  },
  {
   "cell_type": "code",
   "execution_count": 22,
   "metadata": {},
   "outputs": [],
   "source": [
    "#Add Bock model mapping and replace numerical model descriptions with letter descriptions\n",
    "\n",
    "Bock_Mapping = {'14057': ' FEX ',\n",
    "                '14056': ' FKX ',\n",
    "                '20250': ' FKX ',\n",
    "                '20071': ' FKX ',\n",
    "                '11712': ' F16 ',\n",
    "                '11702': ' F16 ',\n",
    "                '11700': ' F16 ',\n",
    "                '144': ' HG '} #leave empty space before and after so string_matching can identify it as a seperate chunk (word)\n",
    "\n",
    "for key, value in Bock_Mapping.items():\n",
    "    raw_data.loc[raw_data['Competitor'] == 'Bock', 'Detailed_Description'] = raw_data.loc[raw_data['Competitor'] == 'Bock', 'Detailed_Description'].str.replace(key, value)"
   ]
  },
  {
   "cell_type": "markdown",
   "metadata": {},
   "source": [
    "## String Matching of Descriptions to identify models and types"
   ]
  },
  {
   "cell_type": "code",
   "execution_count": 23,
   "metadata": {},
   "outputs": [],
   "source": [
    "#Function to check if word is (kind of) english\n",
    "\n",
    "english_words = set(words.words())\n",
    "\n",
    "def is_english_word(word, threshold=80):\n",
    "    # Check for exact match\n",
    "    compressor_keywords = [\"Screw\", \"Compressor\", \"Comp\", \"Compresor\", \"Recip\", \"Rotary\", \"Centrifugal\"]\n",
    "    if word in english_words or word in compressor_keywords:\n",
    "        return True\n",
    "    \n",
    "    # Use fuzzy matching to find the closest word\n",
    "    #closest_match = max(english_words, key=lambda x: fuzz.ratio(word.lower(), x.lower()))\n",
    "    #match_score = fuzz.ratio(word.lower(), closest_match.lower())\n",
    "    \n",
    "    #return match_score >= threshold\n"
   ]
  },
  {
   "cell_type": "code",
   "execution_count": 24,
   "metadata": {},
   "outputs": [
    {
     "name": "stdout",
     "output_type": "stream",
     "text": [
      "None\n"
     ]
    }
   ],
   "source": [
    "print(is_english_word('OPEN_TYPE_COMPRESSOR_V'))"
   ]
  },
  {
   "cell_type": "code",
   "execution_count": 25,
   "metadata": {},
   "outputs": [],
   "source": [
    "# Definition of string matching functions to get the model type and compressor type\n",
    "\n",
    "def string_match(description, company, mapping=models.copy()):\n",
    "    '''\n",
    "    This function scans the detailed description column of the trade data for model descriptions corresponding to the company. Must be applied row-wise\n",
    "    \n",
    "    Args:\n",
    "        description (Iterable): Detailed Description column\n",
    "        company (Iterable): Company column\n",
    "        mapping (pandas.DataFrame): Optional, the model mapping per company with comp types. Defaults to models\n",
    "\n",
    "    Returns:\n",
    "        Tuple: model, comp_type, comp_family per row as a tuple of strings. Returns \"Unknown Model\" if model is unknown or \"Unknown Company\" if company is unknown\n",
    "               and \"\" (empty String) for comp_type and \"Unknown Family\" for comp_family in both cases\n",
    "    '''\n",
    "   \n",
    "    \n",
    "    model = \"Unknown_Model\"\n",
    "    comp_type = \"\"\n",
    "    comp_family = \"Unknown_Family\"\n",
    "\n",
    "    if company == \"Other\":\n",
    "        return \"Unknown_Company\", comp_type, comp_family\n",
    "    \n",
    "    #delimiters = [\",\", \"-\", \":\", \" \", \"/\", \"(\", \")\", \"_\", \"&\", \".\", \";\", \"[\", \"]\"]\n",
    "    \n",
    "    #chunks = re.split(r'|'.join(delimiters), description)\n",
    "\n",
    "    #Workaround since for Bitzer there are models named COMPRESSOR I and so on\n",
    "    if company != \"BITZER\":\n",
    "        chunks = str.split(description)\n",
    "    else:\n",
    "        chunks = [description]\n",
    "    model_sel = mapping[mapping[\"Company\"] == company]\n",
    "\n",
    "    for chunk in chunks:\n",
    "        \n",
    "        #Only model descriptions are interesting\n",
    "        if is_english_word(chunk):\n",
    "            continue\n",
    "        \n",
    "        \n",
    "        for index, row in model_sel.iterrows():\n",
    "\n",
    "            if row[\"Model Details\"] != '':\n",
    "            \n",
    "                # Check if both Model Family and Model Details are in chunk\n",
    "                if row['Model Family'] in chunk and row['Model Details'] in chunk:\n",
    "                    # Get the positions of Model Family and Model Details\n",
    "                    family_index = chunk.find(row['Model Family'])\n",
    "                    details_index = chunk.find(row['Model Details'])\n",
    "                    \n",
    "                    \n",
    "                    # Ensure Model Details appears after Model Family\n",
    "                    if family_index < details_index:\n",
    "                        model = f\"{row['Model Family']}...{row['Model Details']}\"\n",
    "                        comp_type = row['Compressor Type']\n",
    "                        comp_family = row['Compressor Family']\n",
    "            else:\n",
    "                if row['Model Family'] in chunk:\n",
    "                    model = row[\"Model Family\"]\n",
    "                    comp_type = row['Compressor Type']\n",
    "                    comp_family = row['Compressor Family']\n",
    "                \n",
    "    return model, comp_type, comp_family"
   ]
  },
  {
   "cell_type": "code",
   "execution_count": 26,
   "metadata": {},
   "outputs": [
    {
     "name": "stdout",
     "output_type": "stream",
     "text": [
      "['Other' 'Daikin' 'BITZER' 'Hanbell' 'Copeland/Emerson' 'Danfoss' 'MYCOM'\n",
      " 'Fu Sheng' 'Siam' 'Invotech' 'Frascold' 'J&E Hall' 'GEA' 'Snowman'\n",
      " 'Dorin' 'Bock']\n"
     ]
    }
   ],
   "source": [
    "print(raw_data[\"Competitor\"].unique())"
   ]
  },
  {
   "cell_type": "code",
   "execution_count": 27,
   "metadata": {},
   "outputs": [],
   "source": [
    "def exclude_parts(data, mapping_parts=models.copy()):\n",
    "    '''\n",
    "    This function excludes parts according to the model mapping file. For a given company it excludes all records where a parts characters entry is in tthe product description and/or \n",
    "    the Eur_Unit_Price is smaller. This function also excludes ALL deliveries from unknown companies which are not specified in Supplier Names. Unique Company Names in models must\n",
    "    exactly match the unique Competitor Names.\n",
    "\n",
    "    Args:\n",
    "        data (pandas.DataFrame): Tradedata to filter\n",
    "        mapping (pandas.DataFrame): Optional, the model mapping per company with comp types. Defaults to models\n",
    "\n",
    "    Returns:\n",
    "        pandas.DataFrame: The filtered Dataframe\n",
    "    '''\n",
    "\n",
    "    dfs = []\n",
    "\n",
    "    #Get unique company names\n",
    "    companies = mapping_parts[\"Company\"].unique()\n",
    "\n",
    "    #Drop redundant rows where no Parts Characters AND Min Unit Price aren't specified\n",
    "    mapping_parts.dropna(subset=[\"Parts Characters\", \"Min Unit Price\"], how=\"all\", inplace=True)\n",
    "\n",
    "    #Fill empty cells with dummy values which won't filter\n",
    "    mapping_parts[\"Parts Characters\"] = mapping_parts[\"Parts Characters\"].fillna(\"\")\n",
    "    mapping_parts[\"Min Unit Price\"] = mapping_parts[\"Min Unit Price\"].fillna(0)\n",
    "\n",
    "    print(mapping_parts)\n",
    "\n",
    "    #\n",
    "    dfs = []\n",
    "    for company in companies:\n",
    "        model_sel = mapping_parts[mapping_parts[\"Company\"] == company]\n",
    "        filter = model_sel[[\"Parts Characters\", \"Min Unit Price\"]]\n",
    "        data_sel = data[data[\"Competitor\"] == company]\n",
    "        \n",
    "        for i in filter.index:\n",
    "            if filter[\"Parts Characters\"][i] == \"\" and filter[\"Min Unit Price\"][i] == 0: #In this case everything will be filtered out, so skip this filter row\n",
    "                continue\n",
    "\n",
    "            elif filter[\"Parts Characters\"][i] != \"\" and filter[\"Min Unit Price\"][i] != 0:\n",
    "                print(\"Both:\", company, filter[\"Parts Characters\"][i], filter[\"Min Unit Price\"][i])\n",
    "                data_sel = data_sel[~((data_sel[\"Detailed_Description\"].str.contains(filter[\"Parts Characters\"][i])) & (data_sel[\"Euros_Unit_Price\"] < filter[\"Min Unit Price\"][i]))]\n",
    "\n",
    "            elif filter[\"Parts Characters\"][i] == \"\" and filter[\"Min Unit Price\"][i] != 0:\n",
    "                print(\"Price:\", company, filter[\"Min Unit Price\"][i])\n",
    "                data_sel = data_sel[(data_sel[\"Euros_Unit_Price\"] > filter[\"Min Unit Price\"][i])]\n",
    "\n",
    "            elif filter[\"Parts Characters\"][i] != \"\" and filter[\"Min Unit Price\"][i] == 0:\n",
    "                print(\"Characters:\", company, filter[\"Parts Characters\"][i])\n",
    "                data_sel = data_sel[(~data_sel[\"Detailed_Description\"].str.contains(filter[\"Parts Characters\"][i]))]\n",
    "\n",
    "        dfs.append(data_sel)\n",
    "\n",
    "    output = pd.concat(dfs)\n",
    "\n",
    "    return output\n",
    "        "
   ]
  },
  {
   "cell_type": "code",
   "execution_count": 28,
   "metadata": {},
   "outputs": [
    {
     "name": "stdout",
     "output_type": "stream",
     "text": [
      "              Company Compressor Type Compressor Family  Model Family  \\\n",
      "16             BITZER           Screw         Open-Type           OSN   \n",
      "17             BITZER           Screw         Open-Type           OSK   \n",
      "18             BITZER           Screw         Open-Type           OSA   \n",
      "67               Bock           Recip                SH         EX-HG   \n",
      "89   Copeland/Emerson     Centrifugal       Centrifugal   CENTRIFUGAL   \n",
      "212             Dorin           Recip                SH          2S-H   \n",
      "226          Frascold           Recip                SH             A   \n",
      "227          Frascold           Recip                SH             A   \n",
      "310               GEA           Recip         Open-Type  GEA Grasso V   \n",
      "319           Hanbell     Centrifugal       Centrifugal   CENTRIFUGAL   \n",
      "320           Hanbell           Screw        SH/Compact          3609   \n",
      "321           Hanbell           Screw        SH/Compact          3611   \n",
      "374          J&E Hall           Screw         Open-Type           HS0   \n",
      "380             MYCOM           Recip        Industrial            2K   \n",
      "410           Snowman           Recip        SH/Compact           NSW   \n",
      "\n",
      "     Displacement  Power Model Details  Coolants  Parts Characters  \\\n",
      "16            NaN    NaN                     NaN         SEPARATOR   \n",
      "17            NaN    NaN                     NaN  ESTER OIL CHARGE   \n",
      "18            NaN    NaN                     NaN            VALVE    \n",
      "67            NaN    NaN                     NaN            CASING   \n",
      "89            NaN    NaN                     NaN            FILTER   \n",
      "212           NaN    NaN                     NaN             PARTS   \n",
      "226           NaN    NaN            XH       NaN             SPARE   \n",
      "227           NaN    NaN            XY       NaN        EXHIBITION   \n",
      "310           NaN    NaN             T       NaN                     \n",
      "319           NaN    NaN                     NaN    AIR COMPRESSOR   \n",
      "320           NaN    NaN                     NaN               OIL   \n",
      "321           NaN    NaN                     NaN                     \n",
      "374           NaN    NaN                     NaN                     \n",
      "380           NaN    NaN                     NaN                     \n",
      "410           NaN    NaN                     NaN    CEILING FILTER   \n",
      "\n",
      "     Min Unit Price  \n",
      "16              0.0  \n",
      "17              0.0  \n",
      "18           1500.0  \n",
      "67              0.0  \n",
      "89              0.0  \n",
      "212             0.0  \n",
      "226             0.0  \n",
      "227             0.0  \n",
      "310          1500.0  \n",
      "319             0.0  \n",
      "320             0.0  \n",
      "321           500.0  \n",
      "374          1000.0  \n",
      "380          1000.0  \n",
      "410             0.0  \n",
      "Characters: BITZER SEPARATOR\n",
      "Characters: BITZER ESTER OIL CHARGE\n",
      "Both: BITZER VALVE  1500.0\n",
      "Characters: Bock CASING\n",
      "Characters: Copeland/Emerson FILTER\n",
      "Characters: Dorin PARTS\n",
      "Characters: Frascold SPARE\n",
      "Characters: Frascold EXHIBITION\n",
      "Price: GEA 1500.0\n",
      "Characters: Hanbell AIR COMPRESSOR\n",
      "Characters: Hanbell OIL\n",
      "Price: Hanbell 500.0\n",
      "Price: J&E Hall 1000.0\n",
      "Price: MYCOM 1000.0\n",
      "Characters: Snowman CEILING FILTER\n"
     ]
    }
   ],
   "source": [
    "test = exclude_parts(raw_data)"
   ]
  },
  {
   "cell_type": "code",
   "execution_count": 29,
   "metadata": {},
   "outputs": [
    {
     "name": "stdout",
     "output_type": "stream",
     "text": [
      "41469\n"
     ]
    }
   ],
   "source": [
    "print(len(test.index))"
   ]
  },
  {
   "cell_type": "code",
   "execution_count": 30,
   "metadata": {},
   "outputs": [
    {
     "name": "stdout",
     "output_type": "stream",
     "text": [
      "47588\n"
     ]
    }
   ],
   "source": [
    "print(len(raw_data[raw_data[\"Competitor\"] != \"Other\"].index))"
   ]
  },
  {
   "cell_type": "code",
   "execution_count": 31,
   "metadata": {},
   "outputs": [],
   "source": [
    "raw_data = test"
   ]
  },
  {
   "cell_type": "code",
   "execution_count": 32,
   "metadata": {},
   "outputs": [
    {
     "name": "stdout",
     "output_type": "stream",
     "text": [
      "     Company Compressor Type Compressor Family Model Family  Displacement  \\\n",
      "0     BITZER           Recip         Open-Type          BO3           NaN   \n",
      "1     BITZER           Recip         Open-Type          BO4           NaN   \n",
      "2     BITZER           Recip         Open-Type          BO5           NaN   \n",
      "3     BITZER           Recip         Open-Type          BO6           NaN   \n",
      "4     BITZER           Recip         Open-Type         BOA3           NaN   \n",
      "..       ...             ...               ...          ...           ...   \n",
      "421  Snowman           Screw        SH/Compact          SRH           NaN   \n",
      "422  Snowman           Screw        SH/Compact          SRM           NaN   \n",
      "423  Snowman           Screw        SH/Compact          SRS           NaN   \n",
      "424  Snowman           Screw        SH/Compact         SW3L           NaN   \n",
      "425  Snowman           Screw        SH/Compact         SW5L           NaN   \n",
      "\n",
      "     Power Model Details  Coolants Parts Characters  Min Unit Price  \n",
      "0      NaN                     NaN              NaN             NaN  \n",
      "1      NaN                     NaN              NaN             NaN  \n",
      "2      NaN                     NaN              NaN             NaN  \n",
      "3      NaN                     NaN              NaN             NaN  \n",
      "4      NaN                     NaN              NaN             NaN  \n",
      "..     ...           ...       ...              ...             ...  \n",
      "421    NaN                     NaN              NaN             NaN  \n",
      "422    NaN                     NaN              NaN             NaN  \n",
      "423    NaN                     NaN              NaN             NaN  \n",
      "424    NaN                     NaN              NaN             NaN  \n",
      "425    NaN                     NaN              NaN             NaN  \n",
      "\n",
      "[426 rows x 10 columns]\n"
     ]
    }
   ],
   "source": [
    "print(models)"
   ]
  },
  {
   "cell_type": "code",
   "execution_count": 33,
   "metadata": {},
   "outputs": [],
   "source": [
    "raw_data.loc[raw_data['Competitor'] == 'BITZER', 'Detailed_Description'] = raw_data.loc[raw_data['Competitor'] == 'BITZER', 'Detailed_Description'].str.replace(' ', '_')"
   ]
  },
  {
   "cell_type": "code",
   "execution_count": 34,
   "metadata": {},
   "outputs": [],
   "source": [
    "raw_data[['models', 'comp_types', 'comp_family']] = raw_data.apply(lambda row: pd.Series(string_match(row[\"Detailed_Description\"], row[\"Competitor\"])), axis=1)"
   ]
  },
  {
   "cell_type": "code",
   "execution_count": 35,
   "metadata": {},
   "outputs": [],
   "source": [
    "raw_data[\"comp_family\"] = raw_data[\"comp_family\"].fillna(\"Unknown_Family\")"
   ]
  },
  {
   "cell_type": "code",
   "execution_count": 36,
   "metadata": {},
   "outputs": [],
   "source": [
    "# Merge Comp_Type Columns into comp_types\n",
    "\n",
    "raw_data['comp_types'] = raw_data['comp_types'] + raw_data['Compressor_Type']\n"
   ]
  },
  {
   "cell_type": "code",
   "execution_count": 37,
   "metadata": {},
   "outputs": [],
   "source": [
    "\n",
    "raw_data = raw_data.drop(\"Compressor_Type\", axis=1)"
   ]
  },
  {
   "cell_type": "code",
   "execution_count": 38,
   "metadata": {},
   "outputs": [
    {
     "name": "stdout",
     "output_type": "stream",
     "text": [
      "         HS_Code                               Detailed_Description  \\\n",
      "89777   84144090  AMMONIA_SCREW_COMPRESSOR_ACP95103N_3C_D1000_WI...   \n",
      "130228  84143000  COMPRESSOR_MODEL_NO_100021566_ACP9103N_D_1000_...   \n",
      "130374  84143000  COMPRESSOR_MODEL_NO_100021293_ACP9103N_D_1000_...   \n",
      "174074  84143000  AMMONIA_COMPRESSOR_PACKS_(ACP)_WITH_OPEN_SCREW...   \n",
      "174099  84143000  AMMONIA_COMPRESSOR_PACK_ACP8591N_3C_ACP-8591N-...   \n",
      "174108  84143000  AMMONIA_COMPRESSOR_PACKS_(ACP)_WITH_OPEN_SCREW...   \n",
      "174161  84143000  AMMONIA_COMPRESSOR_PACKS_(ACP)_WITH_OPEN_SCREW...   \n",
      "182121  84143000       ACP9583-N-3C_2/2_(AMMONIA_COMPRESSOR_PACK_)_   \n",
      "182136  84143000  ACP9583-N-3C_1/2_ACP-9583-N-3C_(AMMONIA_COMPRE...   \n",
      "184003  84143000  AMMONIA_SCREW_COMPRESSOR_ACP-95103K-2C_WITH_AC...   \n",
      "257761  84143000  ACP_AMMONIUM_COMPRESSOR_PACK_WITH_STD_ACC._(TY...   \n",
      "257811  84143000  ACP_AMMONIUM_COMPRESSOR_PACK_WITH_STD_ACC._(TY...   \n",
      "274688  84143000         ACP_COMPRESSOR_-_ACP95103K-2C_(100021293)_   \n",
      "274697  84143000     ACP_COMPRESSOR_-_ACP95103B-3V_1/2_(100021293)_   \n",
      "274737  84143000   ACP_COMPRESSOR_-_ACP8591K-2(3)C_1/2_(100021293)_   \n",
      "274900  84143000          ACP_COMPRESSOR_-_ACP8581B-3C_(100021293)_   \n",
      "280607  84143000         ACP_COMPRESSOR_-_ACP-8591K-3C_-_100021293_   \n",
      "290957  84143000                      ACP8591K-2C_(ACP_COMPRESSOR)_   \n",
      "305757  84143000  100021293-ACP8561K-3C_AMMONIA_COMPRESSOR_PACK_...   \n",
      "310994  84143000                ACP8591K-2C_(PARTS_FOR_COMPRESSORS_   \n",
      "325130  84143000               ACP9583N-3C_(PARTS_FOR_COMPRESSORS)_   \n",
      "326918  84143000  OIL_SEPRATOR_ACP8581K2C,CMPRSR_TYP_D650,OIL_CO...   \n",
      "327034  84143000                            100021293_ACP95103B-3C_   \n",
      "\n",
      "             Date                                   Indian_Importer  \\\n",
      "89777  2022-02-11  SRI VARSHA INTEGRATED FOOD PARK PRIVATE LIMITED    \n",
      "130228 2022-07-11                            K. N. C. AGRO LIMITED    \n",
      "130374 2022-07-11                            K. N. C. AGRO LIMITED    \n",
      "174074 2022-12-27         SAHYADRI FARMS POST HARVEST CARE LIMITED    \n",
      "174099 2022-12-27                            NAS FISHERIES PVT LTD    \n",
      "174108 2022-12-27         SAHYADRI FARMS POST HARVEST CARE LIMITED    \n",
      "174161 2022-12-27         SAHYADRI FARMS POST HARVEST CARE LIMITED    \n",
      "182121 2023-01-25                     BITZER INDIA PRIVATE LIMITED    \n",
      "182136 2023-01-25                     BITZER INDIA PRIVATE LIMITED    \n",
      "184003 2023-02-01                             CREAMY FOODS LIMITED    \n",
      "257761 2023-10-18                AGRUM FOODS INDIA PRIVATE LIMITED    \n",
      "257811 2023-10-18                AGRUM FOODS INDIA PRIVATE LIMITED    \n",
      "274688 2023-12-16                     BITZER INDIA PRIVATE LIMITED    \n",
      "274697 2023-12-16                     BITZER INDIA PRIVATE LIMITED    \n",
      "274737 2023-12-16                     BITZER INDIA PRIVATE LIMITED    \n",
      "274900 2023-12-16                     BITZER INDIA PRIVATE LIMITED    \n",
      "280607 2024-01-08                     BITZER INDIA PRIVATE LIMITED    \n",
      "290957 2024-02-12                     BITZER INDIA PRIVATE LIMITED    \n",
      "305757 2024-04-01                     BITZER INDIA PRIVATE LIMITED    \n",
      "310994 2024-04-18                     BITZER INDIA PRIVATE LIMITED    \n",
      "325130 2024-07-01                     BITZER INDIA PRIVATE LIMITED    \n",
      "326918 2024-08-17          VERONICA MARINE EXPORTS PRIVATE LIMITED    \n",
      "327034 2024-08-21                     BITZER INDIA PRIVATE LIMITED    \n",
      "\n",
      "       Quantity_Units  Quantity  Total_Dollar_Amount  USD_Unit_Price  \\\n",
      "89777             SET         1               155392          155392   \n",
      "130228            PCS         1                33916           33916   \n",
      "130374            PCS         1                79137           79137   \n",
      "174074            PCS         1               104003          104003   \n",
      "174099            PCS         1                81869           81869   \n",
      "174108            PCS         2               220567          110283   \n",
      "174161            PCS         1                88066           88066   \n",
      "182121            NOS         1                43964           43964   \n",
      "182136            NOS         1                82339           82339   \n",
      "184003            SET         3               413013          137671   \n",
      "257761            PCS         1                66828           66828   \n",
      "257811            PCS         1                66213           66213   \n",
      "274688            PCS         1               111929          111929   \n",
      "274697            PCS         2               214274          107137   \n",
      "274737            PCS         1                76505           76505   \n",
      "274900            PCS         1                74375           74375   \n",
      "280607            PCS         1                69757           69757   \n",
      "290957            PCS         1                70079           70079   \n",
      "305757            PCS         1                71661           71661   \n",
      "310994            PCS         1                69011           69011   \n",
      "325130            PCS         1               128772          128772   \n",
      "326918            SET         1                67490           67490   \n",
      "327034            NOS         1               105717          105717   \n",
      "\n",
      "        Total_Rupees_Amount  Rupees_Unit_Price  ...  \\\n",
      "89777              11771002           11771002  ...   \n",
      "130228              2709898            2709898  ...   \n",
      "130374              6323096            6323096  ...   \n",
      "174074              8689486            8689486  ...   \n",
      "174099              6840163            6840163  ...   \n",
      "174108             18428440            9214220  ...   \n",
      "174161              7357976            7357976  ...   \n",
      "182121              3618252            3618250  ...   \n",
      "182136              6776534            6776530  ...   \n",
      "184003             33991000           11330300  ...   \n",
      "257761              5623642            5623642  ...   \n",
      "257811              5571877            5571877  ...   \n",
      "274688              9435635            9435635  ...   \n",
      "274697             18063334            9031667  ...   \n",
      "274737              6449395            6449395  ...   \n",
      "274900              6269861            6269861  ...   \n",
      "280607              5754994            5754994  ...   \n",
      "290957              5781595            5781595  ...   \n",
      "305757              6019595            6019595  ...   \n",
      "310994              5821113            5821113  ...   \n",
      "325130             10855508           10855508  ...   \n",
      "326918              5689468            5689468  ...   \n",
      "327034              8911954            8911954  ...   \n",
      "\n",
      "                                      Product_Description  \\\n",
      "89777   Air compressors mounted on a wheeled chassis f...   \n",
      "130228            Compressors for refrigerating equipment   \n",
      "130374            Compressors for refrigerating equipment   \n",
      "174074            Compressors for refrigerating equipment   \n",
      "174099            Compressors for refrigerating equipment   \n",
      "174108            Compressors for refrigerating equipment   \n",
      "174161            Compressors for refrigerating equipment   \n",
      "182121            Compressors for refrigerating equipment   \n",
      "182136            Compressors for refrigerating equipment   \n",
      "184003            Compressors for refrigerating equipment   \n",
      "257761            Compressors for refrigerating equipment   \n",
      "257811            Compressors for refrigerating equipment   \n",
      "274688            Compressors for refrigerating equipment   \n",
      "274697            Compressors for refrigerating equipment   \n",
      "274737            Compressors for refrigerating equipment   \n",
      "274900            Compressors for refrigerating equipment   \n",
      "280607            Compressors for refrigerating equipment   \n",
      "290957            Compressors for refrigerating equipment   \n",
      "305757            Compressors for refrigerating equipment   \n",
      "310994            Compressors for refrigerating equipment   \n",
      "325130            Compressors for refrigerating equipment   \n",
      "326918            Compressors for refrigerating equipment   \n",
      "327034            Compressors for refrigerating equipment   \n",
      "\n",
      "                                         Importer_Address Origin_Country  \\\n",
      "89777                                                 NaN                  \n",
      "130228                                                NaN                  \n",
      "130374                                                NaN                  \n",
      "174074  Gat No 314/1, 314/2/1, A/p Mohadi  Taluka Dindori                  \n",
      "174099       16/1712 OLD NO.22/1173 A,N.H.47, E  DAKOCHI,                  \n",
      "174108  Gat No 314/1, 314/2/1, A/p Mohadi  Taluka Dindori                  \n",
      "174161  Gat No 314/1, 314/2/1, A/p Mohadi  Taluka Dindori                  \n",
      "182121      R-708/1 T T C INDUSTRIAL AREA,MIDC  , RABALE,                  \n",
      "182136      R-708/1 T T C INDUSTRIAL AREA,MIDC  , RABALE,                  \n",
      "184003   80 K.M STONE, G.T ROAD,VILAGE BART  OULI, KHURJA                  \n",
      "257761  REGD. OFFICE: AGRUM FOODS INDIA PRI  P.O. & TE...                  \n",
      "257811  REGD. OFFICE: AGRUM FOODS INDIA PRI  P.O. & TE...                  \n",
      "274688      R-708/1 T T C INDUSTRIAL AREA,MIDC  , RABALE,                  \n",
      "274697      R-708/1 T T C INDUSTRIAL AREA,MIDC  , RABALE,                  \n",
      "274737      R-708/1 T T C INDUSTRIAL AREA,MIDC  , RABALE,                  \n",
      "274900      R-708/1 T T C INDUSTRIAL AREA,MIDC  , RABALE,                  \n",
      "280607      R-708/1 T T C INDUSTRIAL AREA,MIDC  , RABALE,                  \n",
      "290957      R-708/1 T T C INDUSTRIAL AREA,MIDC  , RABALE,                  \n",
      "305757      R-708/1 T T C INDUSTRIAL AREA,MIDC  , RABALE,                  \n",
      "310994      R-708/1 T T C INDUSTRIAL AREA,MIDC  , RABALE,                  \n",
      "325130      R-708/1 T T C INDUSTRIAL AREA,MIDC  , RABALE,                  \n",
      "326918                 DOOR NO.21/50-A,CHERTHALA THALUK                    \n",
      "327034      R-708/1 T T C INDUSTRIAL AREA,MIDC  , RABALE,                  \n",
      "\n",
      "        TIME PERIOD Total_Euro_Amount Euros_Unit_Price Competitor models  \\\n",
      "89777   11 Feb 2022            136105           136105     BITZER    ACP   \n",
      "130228  11 Jul 2022             33586            33586     BITZER    ACP   \n",
      "130374  11 Jul 2022             78368            78368     BITZER    ACP   \n",
      "174074  27 Dec 2022             97894            97894     BITZER    ACP   \n",
      "174099  27 Dec 2022             77060            77060     BITZER    ACP   \n",
      "174108  27 Dec 2022            207612           103805     BITZER    ACP   \n",
      "174161  27 Dec 2022             82893            82893     BITZER    ACP   \n",
      "182121  25 Jan 2023             40415            40415     BITZER    ACP   \n",
      "182136  25 Jan 2023             75693            75693     BITZER    ACP   \n",
      "184003  01 Feb 2023            379119           126373     BITZER    ACP   \n",
      "257761  18 Oct 2023             63254            63254     BITZER    ACP   \n",
      "257811  18 Oct 2023             62672            62672     BITZER    ACP   \n",
      "274688          NaN            102255           102255     BITZER    ACP   \n",
      "274697          NaN            195755            97877     BITZER    ACP   \n",
      "274737          NaN             69893            69893     BITZER    ACP   \n",
      "274900          NaN             67947            67947     BITZER    ACP   \n",
      "280607  08 Jan 2024             63728            63728     BITZER    ACP   \n",
      "290957  12 Feb 2024             65050            65050     BITZER    ACP   \n",
      "305757          NaN             66285            66285     BITZER    ACP   \n",
      "310994  18 Apr 2024             64623            64623     BITZER    ACP   \n",
      "325130  01 Jul 2024            119843           119843     BITZER    ACP   \n",
      "326918          NaN             61388            61388     BITZER    ACP   \n",
      "327034  21 Aug 2024             95103            95103     BITZER    ACP   \n",
      "\n",
      "        comp_types  comp_family  \n",
      "89777          ACP          ACP  \n",
      "130228         ACP          ACP  \n",
      "130374         ACP          ACP  \n",
      "174074         ACP          ACP  \n",
      "174099         ACP          ACP  \n",
      "174108         ACP          ACP  \n",
      "174161         ACP          ACP  \n",
      "182121         ACP          ACP  \n",
      "182136         ACP          ACP  \n",
      "184003         ACP          ACP  \n",
      "257761         ACP          ACP  \n",
      "257811         ACP          ACP  \n",
      "274688         ACP          ACP  \n",
      "274697         ACP          ACP  \n",
      "274737         ACP          ACP  \n",
      "274900         ACP          ACP  \n",
      "280607         ACP          ACP  \n",
      "290957         ACP          ACP  \n",
      "305757         ACP          ACP  \n",
      "310994         ACP          ACP  \n",
      "325130         ACP          ACP  \n",
      "326918         ACP          ACP  \n",
      "327034         ACP          ACP  \n",
      "\n",
      "[23 rows x 24 columns]\n"
     ]
    }
   ],
   "source": [
    "\n",
    "raw_data['comp_types'] = raw_data['comp_types'].replace({\n",
    "    'RecipRecip': 'Recip',\n",
    "    'ScrewScrew': 'Screw',\n",
    "    'ScrollScroll': 'Scroll',\n",
    "    'ScrollScrew': 'Scroll',\n",
    "    'RecipScrew': 'Recip',\n",
    "    'ScrollRecip': 'Scroll',\n",
    "    'ScrewRecip': 'Screw',\n",
    "    'ScrewScroll': 'Screw',\n",
    "    'RecipScroll': 'Recip',\n",
    "    'RecipRotary': 'Recip',\n",
    "    'ScrewRotary': 'Screw',\n",
    "    'ScrollRotary': 'Scroll',\n",
    "    'Open-typeRecip': 'Open-type',\n",
    "    'Open-typeScrew': 'Open-type',\n",
    "    'Open-typeScroll': 'Open-type',\n",
    "    'ACPScrew': 'ACP',\n",
    "    'ACPRecip': 'ACP',\n",
    "    'ACPScroll': 'ACP',\n",
    "    '': 'Unknown Type',\n",
    "    ' ': 'Unknown Type'\n",
    "})\n",
    "\n",
    "raw_data['comp_types'] = raw_data['comp_types'].fillna('Unknown Type')\n",
    "\n",
    "print(raw_data[(raw_data['comp_types'] != 'Unknown Type') & (raw_data['comp_types'] != 'Recip') & (raw_data['comp_types'] != 'Screw') & (raw_data['comp_types'] != 'Scroll') & (raw_data['comp_types'] != 'Open-type') & (raw_data['comp_types'] != 'Centrifugal') & (raw_data['comp_types'] != 'Rotary')])"
   ]
  },
  {
   "cell_type": "code",
   "execution_count": 39,
   "metadata": {},
   "outputs": [
    {
     "name": "stdout",
     "output_type": "stream",
     "text": [
      "10\n",
      "{'Danfoss', 'BITZER', 'Copeland/Emerson', 'Snowman'}\n",
      "Empty DataFrame\n",
      "Columns: [HS_Code, Detailed_Description, Date, Indian_Importer, Quantity_Units, Quantity, Total_Dollar_Amount, USD_Unit_Price, Total_Rupees_Amount, Rupees_Unit_Price, Trans_Amount_Foreign_Currency, Trans_Unit_Price_Foreign_Currency, Currency, Foreign_Exporter, Product_Description, Importer_Address, Origin_Country, TIME PERIOD_x, Total_Euro_Amount, Euros_Unit_Price, Competitor, models, comp_types, comp_family, DATE, TIME PERIOD_y, US dollar/Euro (EXR.D.USD.EUR.SP00.A)]\n",
      "Index: []\n",
      "\n",
      "[0 rows x 27 columns]\n",
      "Empty DataFrame\n",
      "Columns: [HS_Code, Detailed_Description, Date, Indian_Importer, Quantity_Units, Quantity, Total_Dollar_Amount, USD_Unit_Price, Total_Rupees_Amount, Rupees_Unit_Price, Trans_Amount_Foreign_Currency, Trans_Unit_Price_Foreign_Currency, Currency, Foreign_Exporter, Product_Description, Importer_Address, Origin_Country, TIME PERIOD_x, Total_Euro_Amount, Euros_Unit_Price, Competitor, models, comp_types, comp_family, DATE, TIME PERIOD_y, US dollar/Euro (EXR.D.USD.EUR.SP00.A)]\n",
      "Index: []\n",
      "\n",
      "[0 rows x 27 columns]\n",
      "Empty DataFrame\n",
      "Columns: [HS_Code, Detailed_Description, Date, Indian_Importer, Quantity_Units, Quantity, Total_Dollar_Amount, USD_Unit_Price, Total_Rupees_Amount, Rupees_Unit_Price, Trans_Amount_Foreign_Currency, Trans_Unit_Price_Foreign_Currency, Currency, Foreign_Exporter, Product_Description, Importer_Address, Origin_Country, TIME PERIOD_x, Total_Euro_Amount, Euros_Unit_Price, Competitor, models, comp_types, comp_family, DATE, TIME PERIOD_y, US dollar/Euro (EXR.D.USD.EUR.SP00.A)]\n",
      "Index: []\n",
      "\n",
      "[0 rows x 27 columns]\n",
      "Empty DataFrame\n",
      "Columns: [HS_Code, Detailed_Description, Date, Indian_Importer, Quantity_Units, Quantity, Total_Dollar_Amount, USD_Unit_Price, Total_Rupees_Amount, Rupees_Unit_Price, Trans_Amount_Foreign_Currency, Trans_Unit_Price_Foreign_Currency, Currency, Foreign_Exporter, Product_Description, Importer_Address, Origin_Country, TIME PERIOD_x, Total_Euro_Amount, Euros_Unit_Price, Competitor, models, comp_types, comp_family, DATE, TIME PERIOD_y, US dollar/Euro (EXR.D.USD.EUR.SP00.A)]\n",
      "Index: []\n",
      "\n",
      "[0 rows x 27 columns]\n",
      "Empty DataFrame\n",
      "Columns: [HS_Code, Detailed_Description, Date, Indian_Importer, Quantity_Units, Quantity, Total_Dollar_Amount, USD_Unit_Price, Total_Rupees_Amount, Rupees_Unit_Price, Trans_Amount_Foreign_Currency, Trans_Unit_Price_Foreign_Currency, Currency, Foreign_Exporter, Product_Description, Importer_Address, Origin_Country, TIME PERIOD_x, Total_Euro_Amount, Euros_Unit_Price, Competitor, models, comp_types, comp_family, DATE, TIME PERIOD_y, US dollar/Euro (EXR.D.USD.EUR.SP00.A)]\n",
      "Index: []\n",
      "\n",
      "[0 rows x 27 columns]\n",
      "Empty DataFrame\n",
      "Columns: [HS_Code, Detailed_Description, Date, Indian_Importer, Quantity_Units, Quantity, Total_Dollar_Amount, USD_Unit_Price, Total_Rupees_Amount, Rupees_Unit_Price, Trans_Amount_Foreign_Currency, Trans_Unit_Price_Foreign_Currency, Currency, Foreign_Exporter, Product_Description, Importer_Address, Origin_Country, TIME PERIOD_x, Total_Euro_Amount, Euros_Unit_Price, Competitor, models, comp_types, comp_family, DATE, TIME PERIOD_y, US dollar/Euro (EXR.D.USD.EUR.SP00.A)]\n",
      "Index: []\n",
      "\n",
      "[0 rows x 27 columns]\n",
      "Empty DataFrame\n",
      "Columns: [HS_Code, Detailed_Description, Date, Indian_Importer, Quantity_Units, Quantity, Total_Dollar_Amount, USD_Unit_Price, Total_Rupees_Amount, Rupees_Unit_Price, Trans_Amount_Foreign_Currency, Trans_Unit_Price_Foreign_Currency, Currency, Foreign_Exporter, Product_Description, Importer_Address, Origin_Country, TIME PERIOD_x, Total_Euro_Amount, Euros_Unit_Price, Competitor, models, comp_types, comp_family, DATE, TIME PERIOD_y, US dollar/Euro (EXR.D.USD.EUR.SP00.A)]\n",
      "Index: []\n",
      "\n",
      "[0 rows x 27 columns]\n",
      "Empty DataFrame\n",
      "Columns: [HS_Code, Detailed_Description, Date, Indian_Importer, Quantity_Units, Quantity, Total_Dollar_Amount, USD_Unit_Price, Total_Rupees_Amount, Rupees_Unit_Price, Trans_Amount_Foreign_Currency, Trans_Unit_Price_Foreign_Currency, Currency, Foreign_Exporter, Product_Description, Importer_Address, Origin_Country, TIME PERIOD_x, Total_Euro_Amount, Euros_Unit_Price, Competitor, models, comp_types, comp_family, DATE, TIME PERIOD_y, US dollar/Euro (EXR.D.USD.EUR.SP00.A)]\n",
      "Index: []\n",
      "\n",
      "[0 rows x 27 columns]\n",
      "Empty DataFrame\n",
      "Columns: [HS_Code, Detailed_Description, Date, Indian_Importer, Quantity_Units, Quantity, Total_Dollar_Amount, USD_Unit_Price, Total_Rupees_Amount, Rupees_Unit_Price, Trans_Amount_Foreign_Currency, Trans_Unit_Price_Foreign_Currency, Currency, Foreign_Exporter, Product_Description, Importer_Address, Origin_Country, TIME PERIOD_x, Total_Euro_Amount, Euros_Unit_Price, Competitor, models, comp_types, comp_family, DATE, TIME PERIOD_y, US dollar/Euro (EXR.D.USD.EUR.SP00.A)]\n",
      "Index: []\n",
      "\n",
      "[0 rows x 27 columns]\n",
      "Empty DataFrame\n",
      "Columns: [HS_Code, Detailed_Description, Date, Indian_Importer, Quantity_Units, Quantity, Total_Dollar_Amount, USD_Unit_Price, Total_Rupees_Amount, Rupees_Unit_Price, Trans_Amount_Foreign_Currency, Trans_Unit_Price_Foreign_Currency, Currency, Foreign_Exporter, Product_Description, Importer_Address, Origin_Country, TIME PERIOD_x, Total_Euro_Amount, Euros_Unit_Price, Competitor, models, comp_types, comp_family, DATE, TIME PERIOD_y, US dollar/Euro (EXR.D.USD.EUR.SP00.A)]\n",
      "Index: []\n",
      "\n",
      "[0 rows x 27 columns]\n",
      "Empty DataFrame\n",
      "Columns: [HS_Code, Detailed_Description, Date, Indian_Importer, Quantity_Units, Quantity, Total_Dollar_Amount, USD_Unit_Price, Total_Rupees_Amount, Rupees_Unit_Price, Trans_Amount_Foreign_Currency, Trans_Unit_Price_Foreign_Currency, Currency, Foreign_Exporter, Product_Description, Importer_Address, Origin_Country, TIME PERIOD_x, Total_Euro_Amount, Euros_Unit_Price, Competitor, models, comp_types, comp_family, DATE, TIME PERIOD_y, US dollar/Euro (EXR.D.USD.EUR.SP00.A)]\n",
      "Index: []\n",
      "\n",
      "[0 rows x 27 columns]\n",
      "Empty DataFrame\n",
      "Columns: [HS_Code, Detailed_Description, Date, Indian_Importer, Quantity_Units, Quantity, Total_Dollar_Amount, USD_Unit_Price, Total_Rupees_Amount, Rupees_Unit_Price, Trans_Amount_Foreign_Currency, Trans_Unit_Price_Foreign_Currency, Currency, Foreign_Exporter, Product_Description, Importer_Address, Origin_Country, TIME PERIOD_x, Total_Euro_Amount, Euros_Unit_Price, Competitor, models, comp_types, comp_family, DATE, TIME PERIOD_y, US dollar/Euro (EXR.D.USD.EUR.SP00.A)]\n",
      "Index: []\n",
      "\n",
      "[0 rows x 27 columns]\n",
      "Empty DataFrame\n",
      "Columns: [HS_Code, Detailed_Description, Date, Indian_Importer, Quantity_Units, Quantity, Total_Dollar_Amount, USD_Unit_Price, Total_Rupees_Amount, Rupees_Unit_Price, Trans_Amount_Foreign_Currency, Trans_Unit_Price_Foreign_Currency, Currency, Foreign_Exporter, Product_Description, Importer_Address, Origin_Country, TIME PERIOD_x, Total_Euro_Amount, Euros_Unit_Price, Competitor, models, comp_types, comp_family, DATE, TIME PERIOD_y, US dollar/Euro (EXR.D.USD.EUR.SP00.A)]\n",
      "Index: []\n",
      "\n",
      "[0 rows x 27 columns]\n",
      "Empty DataFrame\n",
      "Columns: [HS_Code, Detailed_Description, Date, Indian_Importer, Quantity_Units, Quantity, Total_Dollar_Amount, USD_Unit_Price, Total_Rupees_Amount, Rupees_Unit_Price, Trans_Amount_Foreign_Currency, Trans_Unit_Price_Foreign_Currency, Currency, Foreign_Exporter, Product_Description, Importer_Address, Origin_Country, TIME PERIOD_x, Total_Euro_Amount, Euros_Unit_Price, Competitor, models, comp_types, comp_family, DATE, TIME PERIOD_y, US dollar/Euro (EXR.D.USD.EUR.SP00.A)]\n",
      "Index: []\n",
      "\n",
      "[0 rows x 27 columns]\n",
      "Empty DataFrame\n",
      "Columns: [HS_Code, Detailed_Description, Date, Indian_Importer, Quantity_Units, Quantity, Total_Dollar_Amount, USD_Unit_Price, Total_Rupees_Amount, Rupees_Unit_Price, Trans_Amount_Foreign_Currency, Trans_Unit_Price_Foreign_Currency, Currency, Foreign_Exporter, Product_Description, Importer_Address, Origin_Country, TIME PERIOD_x, Total_Euro_Amount, Euros_Unit_Price, Competitor, models, comp_types, comp_family, DATE, TIME PERIOD_y, US dollar/Euro (EXR.D.USD.EUR.SP00.A)]\n",
      "Index: []\n",
      "\n",
      "[0 rows x 27 columns]\n",
      "Empty DataFrame\n",
      "Columns: [HS_Code, Detailed_Description, Date, Indian_Importer, Quantity_Units, Quantity, Total_Dollar_Amount, USD_Unit_Price, Total_Rupees_Amount, Rupees_Unit_Price, Trans_Amount_Foreign_Currency, Trans_Unit_Price_Foreign_Currency, Currency, Foreign_Exporter, Product_Description, Importer_Address, Origin_Country, TIME PERIOD_x, Total_Euro_Amount, Euros_Unit_Price, Competitor, models, comp_types, comp_family, DATE, TIME PERIOD_y, US dollar/Euro (EXR.D.USD.EUR.SP00.A)]\n",
      "Index: []\n",
      "\n",
      "[0 rows x 27 columns]\n"
     ]
    }
   ],
   "source": [
    "\n",
    "#Special handling for Danfoss/Bock types\n",
    "raw_data.loc[(raw_data['Competitor'] == 'Danfoss') & (raw_data['comp_types'] == 'Recip'), 'comp_types'] = 'Unknown Type'\n",
    "raw_data.loc[(raw_data['Competitor'] == 'Bock') & (raw_data['comp_types'] == 'Screw'), 'comp_types'] = 'Unknown Type'\n",
    "\n",
    "\n",
    "def KGS_Outlier_Handling(data, USD_EUR):\n",
    "    #Identify competitors where deliveries are in KGS\n",
    "    KGS_Deliveries = data.loc[(data['Quantity_Units'] == 'KGS') | (data['Quantity_Units'] == 'KGS ')]\n",
    "    print(len(KGS_Deliveries.index))\n",
    "    competitors = set(KGS_Deliveries['Competitor'])\n",
    "    print(competitors)\n",
    "    comp_types = set(KGS_Deliveries['comp_types'])\n",
    "\n",
    "    for competitor in competitors:\n",
    "        for comp_type in comp_types:\n",
    "            sel = KGS_Deliveries[(KGS_Deliveries['Competitor'] == competitor) & (KGS_Deliveries[\"comp_types\"] == comp_type)]\n",
    "            data.loc[sel.index, 'Quantity'] = sel['Quantity'].median()\n",
    "            data.loc[sel.index] = USD_EUR_Conversion(sel, USD_EUR)\n",
    "\n",
    "    #Drop deliveries where Unit Prices are too low\n",
    "    data = data.drop(data[(data[\"Euros_Unit_Price\"] <= 90) & (data['Quantity_Units'] != 'KGS') & (data['Quantity_Units'] != 'KGS ')].index)\n",
    "\n",
    "    return data        \n",
    "    \n",
    "test = KGS_Outlier_Handling(raw_data, USD_EUR)"
   ]
  },
  {
   "cell_type": "code",
   "execution_count": 40,
   "metadata": {},
   "outputs": [],
   "source": [
    "test = test.apply(lambda x: x.fillna(0).astype(int) if pd.api.types.is_float_dtype(x) else x)\n",
    "test.head\n",
    "raw_data = test"
   ]
  },
  {
   "cell_type": "code",
   "execution_count": 41,
   "metadata": {},
   "outputs": [
    {
     "name": "stdout",
     "output_type": "stream",
     "text": [
      "0\n"
     ]
    }
   ],
   "source": [
    "sel = raw_data[(raw_data['Competitor'] == 'Danfoss') & (raw_data['comp_types'] == 'Recip')]\n",
    "print(len(sel.index))"
   ]
  },
  {
   "cell_type": "code",
   "execution_count": 42,
   "metadata": {},
   "outputs": [
    {
     "name": "stdout",
     "output_type": "stream",
     "text": [
      "<class 'pandas.core.frame.DataFrame'>\n",
      "Index: 36017 entries, 138 to 326842\n",
      "Data columns (total 24 columns):\n",
      " #   Column                             Non-Null Count  Dtype         \n",
      "---  ------                             --------------  -----         \n",
      " 0   HS_Code                            36017 non-null  int64         \n",
      " 1   Detailed_Description               36007 non-null  object        \n",
      " 2   Date                               36007 non-null  datetime64[ns]\n",
      " 3   Indian_Importer                    36007 non-null  object        \n",
      " 4   Quantity_Units                     36007 non-null  object        \n",
      " 5   Quantity                           36017 non-null  int64         \n",
      " 6   Total_Dollar_Amount                36017 non-null  int64         \n",
      " 7   USD_Unit_Price                     36017 non-null  int64         \n",
      " 8   Total_Rupees_Amount                36017 non-null  int64         \n",
      " 9   Rupees_Unit_Price                  36017 non-null  int64         \n",
      " 10  Trans_Amount_Foreign_Currency      36017 non-null  int64         \n",
      " 11  Trans_Unit_Price_Foreign_Currency  36017 non-null  int64         \n",
      " 12  Currency                           35999 non-null  object        \n",
      " 13  Foreign_Exporter                   36007 non-null  object        \n",
      " 14  Product_Description                34857 non-null  object        \n",
      " 15  Importer_Address                   32964 non-null  object        \n",
      " 16  Origin_Country                     36007 non-null  object        \n",
      " 17  TIME PERIOD                        27923 non-null  object        \n",
      " 18  Total_Euro_Amount                  36017 non-null  int64         \n",
      " 19  Euros_Unit_Price                   36017 non-null  int64         \n",
      " 20  Competitor                         36007 non-null  object        \n",
      " 21  models                             36007 non-null  object        \n",
      " 22  comp_types                         36007 non-null  object        \n",
      " 23  comp_family                        36007 non-null  object        \n",
      "dtypes: datetime64[ns](1), int64(10), object(13)\n",
      "memory usage: 6.9+ MB\n",
      "None\n"
     ]
    }
   ],
   "source": [
    "print(raw_data.info())"
   ]
  },
  {
   "cell_type": "code",
   "execution_count": 43,
   "metadata": {},
   "outputs": [
    {
     "name": "stdout",
     "output_type": "stream",
     "text": [
      "<class 'pandas.core.frame.DataFrame'>\n",
      "Index: 36017 entries, 138 to 326842\n",
      "Data columns (total 24 columns):\n",
      " #   Column                             Non-Null Count  Dtype         \n",
      "---  ------                             --------------  -----         \n",
      " 0   HS_Code                            36017 non-null  int64         \n",
      " 1   Detailed_Description               36007 non-null  object        \n",
      " 2   Date                               36007 non-null  datetime64[ns]\n",
      " 3   Indian_Importer                    36007 non-null  object        \n",
      " 4   Quantity_Units                     36007 non-null  object        \n",
      " 5   Quantity                           36017 non-null  int64         \n",
      " 6   Total_Dollar_Amount                36017 non-null  int64         \n",
      " 7   USD_Unit_Price                     36017 non-null  int64         \n",
      " 8   Total_Rupees_Amount                36017 non-null  int64         \n",
      " 9   Rupees_Unit_Price                  36017 non-null  int64         \n",
      " 10  Trans_Amount_Foreign_Currency      36017 non-null  int64         \n",
      " 11  Trans_Unit_Price_Foreign_Currency  36017 non-null  int64         \n",
      " 12  Currency                           35999 non-null  object        \n",
      " 13  Foreign_Exporter                   36007 non-null  object        \n",
      " 14  Product_Description                34857 non-null  object        \n",
      " 15  Importer_Address                   32964 non-null  object        \n",
      " 16  Origin_Country                     36007 non-null  object        \n",
      " 17  TIME PERIOD                        27923 non-null  object        \n",
      " 18  Total_Euro_Amount                  36017 non-null  int64         \n",
      " 19  Euros_Unit_Price                   36017 non-null  int64         \n",
      " 20  Competitor                         36007 non-null  object        \n",
      " 21  models                             36007 non-null  object        \n",
      " 22  comp_types                         36007 non-null  object        \n",
      " 23  comp_family                        36007 non-null  object        \n",
      "dtypes: datetime64[ns](1), int64(10), object(13)\n",
      "memory usage: 6.9+ MB\n",
      "None\n"
     ]
    }
   ],
   "source": [
    "sel = raw_data[raw_data[\"Competitor\"] != \"Other\"]\n",
    "print(sel.info())"
   ]
  },
  {
   "cell_type": "code",
   "execution_count": 44,
   "metadata": {},
   "outputs": [
    {
     "name": "stdout",
     "output_type": "stream",
     "text": [
      "comp_types\n",
      "Scroll          0.563557\n",
      "Screw           0.186214\n",
      "Unknown Type    0.146860\n",
      "Recip           0.097787\n",
      "Centrifugal     0.004110\n",
      "Rotary          0.000833\n",
      "ACP             0.000639\n",
      "Name: proportion, dtype: float64\n"
     ]
    }
   ],
   "source": [
    "print(raw_data['comp_types'].value_counts(normalize=True))"
   ]
  },
  {
   "cell_type": "markdown",
   "metadata": {},
   "source": [
    "## Data Quality Assessments"
   ]
  },
  {
   "cell_type": "code",
   "execution_count": 45,
   "metadata": {},
   "outputs": [
    {
     "name": "stdout",
     "output_type": "stream",
     "text": [
      "Anzahl unidentifizierter Firmen mit HS_Code 84143000: 0\n",
      "Anzahl unidentifizierter Firmen mit HS_Code 84148011: 0\n",
      "Anzahl unidentifizierter Firmen mit HS_Code 84148019: 0\n",
      "HS_Code\n",
      "84143000    25046\n",
      "84148011     9768\n",
      "84144030      474\n",
      "84144090      402\n",
      "84195099      217\n",
      "84212900       76\n",
      "84148019       15\n",
      "0              10\n",
      "84183010        9\n",
      "Name: count, dtype: int64\n"
     ]
    }
   ],
   "source": [
    "print('Anzahl unidentifizierter Firmen mit HS_Code 84143000:',raw_data[(raw_data[\"HS_Code\"] == 84143000) & (raw_data[\"Competitor\"] == 'Other')].shape[0])\n",
    "print('Anzahl unidentifizierter Firmen mit HS_Code 84148011:',raw_data[(raw_data[\"HS_Code\"] == 84148011) & (raw_data[\"Competitor\"] == 'Other')].shape[0])\n",
    "print('Anzahl unidentifizierter Firmen mit HS_Code 84148019:',raw_data[(raw_data[\"HS_Code\"] == 84148019) & (raw_data[\"Competitor\"] == 'Other')].shape[0])\n",
    "print(raw_data[\"HS_Code\"].value_counts())"
   ]
  },
  {
   "cell_type": "code",
   "execution_count": 46,
   "metadata": {},
   "outputs": [
    {
     "name": "stdout",
     "output_type": "stream",
     "text": [
      "models\n",
      "Unknown_Model    0.309357\n",
      "ZB               0.066570\n",
      "CSH              0.037826\n",
      "X                0.035160\n",
      "SY               0.030077\n",
      "                   ...   \n",
      "HS0              0.000028\n",
      "JL-V             0.000028\n",
      "JS-V             0.000028\n",
      "2K               0.000028\n",
      "SW3L             0.000028\n",
      "Name: proportion, Length: 247, dtype: float64\n"
     ]
    }
   ],
   "source": [
    "#How many model descriptions have been identified?\n",
    "\n",
    "print(raw_data[\"models\"].value_counts(normalize=True))"
   ]
  },
  {
   "cell_type": "code",
   "execution_count": 47,
   "metadata": {},
   "outputs": [
    {
     "name": "stdout",
     "output_type": "stream",
     "text": [
      "Percentage of Unknown Models per competitor:\n",
      " Competitor\n",
      "BITZER                7.752831\n",
      "Bock                  5.076142\n",
      "Copeland/Emerson     43.474208\n",
      "Danfoss              37.071837\n",
      "Dorin                 5.714286\n",
      "Frascold              0.074963\n",
      "Fu Sheng              1.418440\n",
      "GEA                 100.000000\n",
      "Hanbell              15.029522\n",
      "Invotech             26.422764\n",
      "J&E Hall              0.000000\n",
      "MYCOM                 9.601874\n",
      "Siam                 54.216867\n",
      "Snowman               4.142012\n",
      "Name: count, dtype: float64\n",
      "Total Value Counts per competitor:\n",
      " Competitor\n",
      "Copeland/Emerson    0.357486\n",
      "Danfoss             0.325131\n",
      "BITZER              0.144722\n",
      "Hanbell             0.051740\n",
      "Frascold            0.037048\n",
      "J&E Hall            0.019385\n",
      "Siam                0.016136\n",
      "Fu Sheng            0.015664\n",
      "MYCOM               0.011859\n",
      "Invotech            0.006832\n",
      "Bock                0.005471\n",
      "Snowman             0.004694\n",
      "Dorin               0.001944\n",
      "GEA                 0.001889\n",
      "Name: proportion, dtype: float64\n"
     ]
    }
   ],
   "source": [
    "sel = raw_data[(raw_data['models'] == 'Unknown_Model')]\n",
    "sel2 = raw_data[(raw_data['Competitor'] != 'Other')]\n",
    "\n",
    "\n",
    "# Count unknown models per competitor\n",
    "unknown_model_counts = sel['Competitor'].value_counts()\n",
    "\n",
    "# Count total shipments per competitor\n",
    "total_shipments_counts = sel2['Competitor'].value_counts()\n",
    "\n",
    "# Calculate percentage of unknown models per competitor\n",
    "percentage_unknown_models = (unknown_model_counts / total_shipments_counts) * 100\n",
    "percentage_unknown_models.fillna(0, inplace=True)\n",
    "\n",
    "total_shipments_counts = sel2['Competitor'].value_counts(normalize=True)\n",
    "print('Percentage of Unknown Models per competitor:\\n', percentage_unknown_models)\n",
    "print('Total Value Counts per competitor:\\n', total_shipments_counts)"
   ]
  },
  {
   "cell_type": "code",
   "execution_count": 48,
   "metadata": {},
   "outputs": [
    {
     "name": "stdout",
     "output_type": "stream",
     "text": [
      "Competitor\n",
      "Danfoss             0.370633\n",
      "GEA                 0.250000\n",
      "Siam                0.173838\n",
      "BITZER              0.072923\n",
      "Dorin               0.057143\n",
      "Bock                0.050761\n",
      "Copeland/Emerson    0.032474\n",
      "Snowman             0.023669\n",
      "Hanbell             0.005368\n",
      "Fu Sheng            0.005319\n",
      "MYCOM               0.004684\n",
      "Frascold                 NaN\n",
      "Invotech                 NaN\n",
      "J&E Hall                 NaN\n",
      "Name: count, dtype: float64\n"
     ]
    }
   ],
   "source": [
    "sel3 = raw_data[(raw_data['comp_types'] == 'Unknown Type') & (raw_data['Competitor'] != \"Other\")]\n",
    "total_shipments_counts = sel2['Competitor'].value_counts()\n",
    "sel3 = sel3['Competitor'].value_counts()\n",
    "\n",
    "\n",
    "percentage_unknown_types = (sel3 / total_shipments_counts)\n",
    "print(percentage_unknown_types.sort_values(ascending=False))"
   ]
  },
  {
   "cell_type": "code",
   "execution_count": 49,
   "metadata": {},
   "outputs": [
    {
     "name": "stdout",
     "output_type": "stream",
     "text": [
      "[]\n"
     ]
    }
   ],
   "source": [
    "models_sel = ['ANB', 'AN6', 'RE', 'LNB', 'SNB', 'TNB']\n",
    "\n",
    "pattern = '|'.join(models_sel)\n",
    "\n",
    "df = raw_data[raw_data['Competitor'] == 'Siam']\n",
    "\n",
    "filtered_df = df[~df['Detailed_Description'].str.contains(pattern)]\n",
    "print(filtered_df['Detailed_Description'].to_list())"
   ]
  },
  {
   "cell_type": "code",
   "execution_count": 50,
   "metadata": {},
   "outputs": [
    {
     "name": "stdout",
     "output_type": "stream",
     "text": [
      "models\n",
      "CSH                      0.261370\n",
      "CE3                      0.094032\n",
      "Unknown_Model            0.077528\n",
      "BE5                      0.077145\n",
      "CE4                      0.070620\n",
      "CE2                      0.057762\n",
      "BE6                      0.047975\n",
      "BS6                      0.043945\n",
      "CSW                      0.042218\n",
      "HS                       0.040683\n",
      "CE1                      0.037805\n",
      "GSD                      0.030896\n",
      "CSC                      0.029937\n",
      "CSCV                     0.016120\n",
      "BS4                      0.012474\n",
      "OS7                      0.009979\n",
      "BS5                      0.008827\n",
      "CSV                      0.008060\n",
      "BO5                      0.004606\n",
      "ACP                      0.004414\n",
      "BO3                      0.003646\n",
      "BO4                      0.003262\n",
      "OSA                      0.002687\n",
      "OS5                      0.001919\n",
      "BO6                      0.001727\n",
      "4NFC                     0.001535\n",
      "COMPRESSOR_VI            0.001535\n",
      "INDUSTRIAL_COMPRESSOR    0.001343\n",
      "ELH                      0.000960\n",
      "ELV                      0.000576\n",
      "ESH                      0.000576\n",
      "OS8                      0.000576\n",
      "2JE                      0.000384\n",
      "2GES                     0.000384\n",
      "COMPRESSOR_IV            0.000384\n",
      "COMPRESSOR_VY            0.000384\n",
      "CKH                      0.000192\n",
      "GED                      0.000192\n",
      "CH4                      0.000192\n",
      "B35                      0.000192\n",
      "4NE                      0.000192\n",
      "2HE                      0.000192\n",
      "2KE                      0.000192\n",
      "OSN                      0.000192\n",
      "COMPRESSOR_I             0.000192\n",
      "Name: proportion, dtype: float64\n"
     ]
    }
   ],
   "source": [
    "sel_bitzer = raw_data[raw_data['Competitor']==\"BITZER\"]\n",
    "\n",
    "print(sel_bitzer[\"models\"].value_counts(normalize=True))"
   ]
  },
  {
   "cell_type": "code",
   "execution_count": 52,
   "metadata": {},
   "outputs": [
    {
     "name": "stdout",
     "output_type": "stream",
     "text": [
      "Series([], Name: count, dtype: int64)\n",
      "Series([], Name: proportion, dtype: float64)\n"
     ]
    }
   ],
   "source": [
    "turbocor_models = [\"TTS300\", \"TTS350\", \"TTS400\", \"TTS450\", \"TGS230\", \"TGS310\", \"TGS380\", \"TGS390\", \"TGS490\", \"TTH375\", \"TGH285\", \"VTX1600\"]\n",
    "turbocor_models = \"|\".join(turbocor_models)\n",
    "sel_danfoss = raw_data[raw_data[\"Competitor\"]==\"Danfoss\"]\n",
    "sel_turbocor = sel_danfoss[sel_danfoss[\"models\"].str.contains(turbocor_models)]\n",
    "\n",
    "print(sel_turbocor.value_counts())\n",
    "print(sel_turbocor.value_counts(normalize=True))"
   ]
  },
  {
   "cell_type": "code",
   "execution_count": 166,
   "metadata": {},
   "outputs": [
    {
     "data": {
      "text/plain": [
       "'\\nscroll_models = [\"ZR144\", \"ZR160\", \"ZR190\", \"ZR310\", \"ZR380\", \"ZPV050\", \"ZPV080\", \"ZPV066\", \"ZPV096\", \"ZPV112\", \"ZHI46\", \"YP195\", \"YP182\", \"ZPD154\", \"VZH052\", \"VZH065\", \"VZH088\", \"VZH117\", \"VZH170\", \"DCJ121\", \"DSH120\", \"DSH140\", \"DSH161\", \"DSH184\", \"DSH240\", \"DSH295\", \"DSH381\", \"DSH485\", \"BNK\", \"YH355\", \"YH610\"]\\npattern_scroll = \"|\".join(scroll_models)\\n\\nsel_scroll = raw_data[raw_data[\\'models\\'].str.contains(pattern_scroll)]\\n\\nsel_scroll[\\'models\\'].value_counts()\\n'"
      ]
     },
     "execution_count": 166,
     "metadata": {},
     "output_type": "execute_result"
    }
   ],
   "source": [
    "'''\n",
    "scroll_models = [\"ZR144\", \"ZR160\", \"ZR190\", \"ZR310\", \"ZR380\", \"ZPV050\", \"ZPV080\", \"ZPV066\", \"ZPV096\", \"ZPV112\", \"ZHI46\", \"YP195\", \"YP182\", \"ZPD154\", \"VZH052\", \"VZH065\", \"VZH088\", \"VZH117\", \"VZH170\", \"DCJ121\", \"DSH120\", \"DSH140\", \"DSH161\", \"DSH184\", \"DSH240\", \"DSH295\", \"DSH381\", \"DSH485\", \"BNK\", \"YH355\", \"YH610\"]\n",
    "pattern_scroll = \"|\".join(scroll_models)\n",
    "\n",
    "sel_scroll = raw_data[raw_data['models'].str.contains(pattern_scroll)]\n",
    "\n",
    "sel_scroll['models'].value_counts()\n",
    "'''"
   ]
  },
  {
   "cell_type": "code",
   "execution_count": 167,
   "metadata": {},
   "outputs": [
    {
     "name": "stderr",
     "output_type": "stream",
     "text": [
      "<>:1: SyntaxWarning: invalid escape sequence '\\A'\n",
      "<>:1: SyntaxWarning: invalid escape sequence '\\A'\n",
      "C:\\Users\\202679\\AppData\\Local\\Temp\\ipykernel_30268\\3102159417.py:1: SyntaxWarning: invalid escape sequence '\\A'\n",
      "  '''\n"
     ]
    },
    {
     "data": {
      "text/plain": [
       "'\\nscrews_correct = pd.read_excel(\"O:/Projekte/Handelsdaten/Daten\\\\All Consolidated.xlsx\", header=8)\\nscrews_correct[\"Competitor\"] = screws_correct[\\'Foreign_Exporter\\'].apply(map_competitor, args=(competitor_mapping,))\\nscrews_correct[\"comp_types\"] = \\'Screw\\'\\nscrews_correct.rename(columns={\"Detailed_Product\": \"Detailed_Description\", \"Total_Value_INR\": \"Total_Rupees_Amount\"}, inplace=True)\\nscrews_correct[\"Total_Rupees_Amount\"] = screws_correct[\"Total_Rupees_Amount\"].astype(int)\\nscrews_correct[\\'Date\\'] = pd.to_datetime(screws_correct[\\'Date\\'], format=\"%Y/%m/%d\")\\nscrews_correct[\\'Detailed_Description\\'] = screws_correct[\"Detailed_Description\"].str.upper()\\n\\nscrews_correct = screws_correct[[\"Detailed_Description\", \"Competitor\", \"comp_types\", \"Date\", \"HS_Code\", \"Total_Rupees_Amount\"]]\\nprint(screws_correct.info())\\n'"
      ]
     },
     "execution_count": 167,
     "metadata": {},
     "output_type": "execute_result"
    }
   ],
   "source": [
    "'''\n",
    "screws_correct = pd.read_excel(\"O:/Projekte/Handelsdaten/Daten\\All Consolidated.xlsx\", header=8)\n",
    "screws_correct[\"Competitor\"] = screws_correct['Foreign_Exporter'].apply(map_competitor, args=(competitor_mapping,))\n",
    "screws_correct[\"comp_types\"] = 'Screw'\n",
    "screws_correct.rename(columns={\"Detailed_Product\": \"Detailed_Description\", \"Total_Value_INR\": \"Total_Rupees_Amount\"}, inplace=True)\n",
    "screws_correct[\"Total_Rupees_Amount\"] = screws_correct[\"Total_Rupees_Amount\"].astype(int)\n",
    "screws_correct['Date'] = pd.to_datetime(screws_correct['Date'], format=\"%Y/%m/%d\")\n",
    "screws_correct['Detailed_Description'] = screws_correct[\"Detailed_Description\"].str.upper()\n",
    "\n",
    "screws_correct = screws_correct[[\"Detailed_Description\", \"Competitor\", \"comp_types\", \"Date\", \"HS_Code\", \"Total_Rupees_Amount\"]]\n",
    "print(screws_correct.info())\n",
    "'''"
   ]
  },
  {
   "cell_type": "code",
   "execution_count": 168,
   "metadata": {},
   "outputs": [
    {
     "data": {
      "text/plain": [
       "'\\nsel_screw_2023 = raw_data[(raw_data[\"Competitor\"] != \"Other\") & (raw_data[\"Date\"].dt.year == 2023) & (raw_data[\"comp_types\"] == \"Screw\")]\\nsel_screw_2023 = sel_screw_2023[[\"Detailed_Description\", \\'Competitor\\', \"comp_types\", \"Date\", \"HS_Code\", \"Total_Rupees_Amount\"]]\\nprint(sel_screw_2023.info())\\n'"
      ]
     },
     "execution_count": 168,
     "metadata": {},
     "output_type": "execute_result"
    }
   ],
   "source": [
    "'''\n",
    "sel_screw_2023 = raw_data[(raw_data[\"Competitor\"] != \"Other\") & (raw_data[\"Date\"].dt.year == 2023) & (raw_data[\"comp_types\"] == \"Screw\")]\n",
    "sel_screw_2023 = sel_screw_2023[[\"Detailed_Description\", 'Competitor', \"comp_types\", \"Date\", \"HS_Code\", \"Total_Rupees_Amount\"]]\n",
    "print(sel_screw_2023.info())\n",
    "'''"
   ]
  },
  {
   "cell_type": "markdown",
   "metadata": {},
   "source": [
    "## Write to CSV and Excel\n",
    "\n",
    "- Currently, a csv cannot be written to any drive other than C\n",
    "- Previous Outputs can't be opened at the time of writing or permission will be denied"
   ]
  },
  {
   "cell_type": "code",
   "execution_count": 169,
   "metadata": {},
   "outputs": [
    {
     "name": "stdout",
     "output_type": "stream",
     "text": [
      "[WinError 183] Eine Datei kann nicht erstellt werden, wenn sie bereits vorhanden ist: 'C:/Tradedata_Output'\n"
     ]
    }
   ],
   "source": [
    "try:\n",
    "    os.mkdir(\"C:/Tradedata_Output\")\n",
    "except OSError as error:\n",
    "    print(error)\n",
    "\n",
    "\n",
    "raw_data['Year'] = raw_data['Date'].dt.year\n",
    "raw_data['Month'] = raw_data['Date'].dt.month\n",
    "\n",
    "excel_output = raw_data[[\"Year\", \"Month\", \"Competitor\", \"comp_types\", \"comp_family\", \"models\", \"Indian_Importer\", \"Detailed_Description\", \"Total_Euro_Amount\", \"Total_Rupees_Amount\", \"Quantity\"]]\n",
    "\n",
    "excel_output.to_excel(\"C:/Tradedata_Output/data.xlsx\", index=False)\n",
    "raw_data.to_csv(\"C:/Tradedata_Output/data.csv\", index=False)"
   ]
  },
  {
   "cell_type": "code",
   "execution_count": 170,
   "metadata": {},
   "outputs": [
    {
     "data": {
      "text/plain": [
       "<function gc.collect(generation=2)>"
      ]
     },
     "execution_count": 170,
     "metadata": {},
     "output_type": "execute_result"
    }
   ],
   "source": [
    "#Clear unused dataframes, rename result dataframe to data\n",
    "import gc\n",
    "\n",
    "for var_name in list(globals()):\n",
    "        if isinstance(globals()[var_name], pd.core.frame.DataFrame) and (var_name != \"data\" or var_name != \"models\"):\n",
    "            del globals()[var_name]\n",
    "\n",
    "gc.collect"
   ]
  }
 ],
 "metadata": {
  "kernelspec": {
   "display_name": "venv",
   "language": "python",
   "name": "python3"
  },
  "language_info": {
   "codemirror_mode": {
    "name": "ipython",
    "version": 3
   },
   "file_extension": ".py",
   "mimetype": "text/x-python",
   "name": "python",
   "nbconvert_exporter": "python",
   "pygments_lexer": "ipython3",
   "version": "3.12.3"
  }
 },
 "nbformat": 4,
 "nbformat_minor": 2
}
